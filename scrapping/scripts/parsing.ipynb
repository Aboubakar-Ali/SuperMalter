{
 "cells": [
  {
   "cell_type": "code",
   "execution_count": null,
   "metadata": {},
   "outputs": [],
   "source": [
    "import pandas as pd\n",
    "import matplotlib.pyplot as plt\n",
    "\n",
    "file_csv = \"./script_scrapping_malt/Data/clean_data.csv\"\n",
    "df= pd.read_csv(file_csv)\n",
    "\n",
    "def anonymize_names(name):\n",
    "    return 'person' + str(name)\n",
    "\n",
    "# column name to string\n",
    "df['name'] = 'person' + pd.Series(pd.factorize(df['Freelance'])[0] + 1).astype(str)\n",
    "\n",
    "# column price to int\n",
    "df['price'] = df['price'].str.replace('€', '')\n",
    "df = df.astype({'price': 'int32'})\n",
    "\n",
    "print(df.head())\n",
    "\n",
    "# plt.figure(figsize=(20, 14))\n",
    "# plt.table(cellText=data.values, colLabels=data.columns, loc='center')\n",
    "# plt.axis('off')\n",
    "# plt.show()"
   ]
  }
 ],
 "metadata": {
  "language_info": {
   "name": "python"
  }
 },
 "nbformat": 4,
 "nbformat_minor": 2
}
