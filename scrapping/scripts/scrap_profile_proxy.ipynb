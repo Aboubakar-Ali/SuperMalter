{
 "cells": [
  {
   "cell_type": "code",
   "execution_count": 123,
   "id": "83ed0194-fcec-4299-9ffd-cccc861119bb",
   "metadata": {},
   "outputs": [],
   "source": [
    "from selenium import webdriver\n",
    "import undetected_chromedriver as uc\n",
    "from selenium.webdriver.common.by import By\n",
    "from selenium.webdriver.support.ui import WebDriverWait\n",
    "from selenium.webdriver.support import expected_conditions as EC\n",
    "from selenium.webdriver.common.proxy import Proxy, ProxyType\n",
    "from bs4 import BeautifulSoup\n",
    "import pandas as pd\n",
    "import csv"
   ]
  },
  {
   "cell_type": "markdown",
   "metadata": {},
   "source": [
    "CODE TEST PROXY"
   ]
  },
  {
   "cell_type": "code",
   "execution_count": 124,
   "metadata": {},
   "outputs": [
    {
     "data": {
      "text/plain": [
       "'<!DOCTYPE html><html lang=\"en-US\"><head><title>Just a moment...</title><meta http-equiv=\"Content-Type\" content=\"text/html; charset=UTF-8\"><meta http-equiv=\"X-UA-Compatible\" content=\"IE=Edge\"><meta name=\"robots\" content=\"noindex,nofollow\"><meta name=\"viewport\" content=\"width=device-width,initial-scale=1\"><link href=\"/cdn-cgi/styles/challenges.css\" rel=\"stylesheet\"><meta http-equiv=\"refresh\" content=\"375\"></head><body class=\"no-js\"><div class=\"main-wrapper\" role=\"main\"><div class=\"main-content\"><noscript><div id=\"challenge-error-title\"><div class=\"h2\"><span class=\"icon-wrapper\"><div class=\"heading-icon warning-icon\"></div></span><span id=\"challenge-error-text\">Enable JavaScript and cookies to continue</span></div></div></noscript></div></div><script>(function(){window._cf_chl_opt={cvId: \\'2\\',cZone: \"www.malt.fr\",cType: \\'managed\\',cNounce: \\'47770\\',cRay: \\'82605ae2ef5336a9\\',cHash: \\'a20197bbf333777\\',cUPMDTk: \"\\\\/?__cf_chl_tk=kImscxDjYyfKPCeuIHdCGxjT0DHc_kr3K4F5LtzRNaU-1699976448-0-gaNycGzNCmU\",cFPWv: \\'g\\',cTTimeMs: \\'1000\\',cMTimeMs: \\'375000\\',cTplV: 5,cTplB: \\'cf\\',cK: \"visitor-time\",fa: \"\\\\/?__cf_chl_f_tk=kImscxDjYyfKPCeuIHdCGxjT0DHc_kr3K4F5LtzRNaU-1699976448-0-gaNycGzNCmU\",md: \"2oBrqGuHtBSVEOiVgYspgX2oEArD_7XyTFrc7Y8V5ys-1699976448-0-Aa9H8YqzI9FHhmKPlACv079lSES_pLNnyEe29DPECGrOK5LuUzSvM8293Hdm9I3KpsKOmlexP8QHHpsx9I4aDfvJuCE7jEVT3CoCzpWc5KwsYdVXZc1DvxRc2Hc9_0pvEMf_QwjQbw3c3YH975po8ssIziyxMK8YAcROFctmfXmtgRHNkFC1u41PpgRGH55EhsWoIGkPY_0iqlLUMTrS_tKnynGSBLVf64LWMl3rRl8OiLbCvcH7YYpspcyLrfZaZN2D-AK6dC8jKkSCAI-N1uCmaO03Dms48z1JjWs7yJxjfjgVMj3YM29_jhk3nVPFcKuwn8UFUmDJB654iOKTvK_fr5kWwEhauUd7-Go1B_-skjEGL7lDr6UdLn3LlVR8O4TVEgG8tRGWEd5zcJPnHij3SlDkpUNmp8iTFEjsIKmwC_jmn7Ej4IZ5t88v8QNBsX_HRKesZUCyINf1vqhXZr6fXlI2b_Mebu8R9bOc-mT4Nh_x0Ew93oDRcyViJ3o3ROlcfAa9GLiGhCU9feKJ1krTbBNYwDBlLNz5SNsqTNMascsskAHI1vblMmLqOifalk9VZjYQO3cGyja86duoNABCFwbtENSbNoJKtk8mVE_bzHEhwZgqWAeX6d97_Ee0a2zKdD_8nR_7hg7kVy7YV_MIuWIbpMxd3Vr09yN4Ix72C9cUOcLmlkM1RAWAtkBT2weAT_P-X5pCUEp3dpsmoSjXlfzM-mB7OJv1jVzV2DusUqNI--bgmj03Whi5W4VNxL2c8DoV6gH8IcuOUJrXRhe2RFB28N4bKHi_zMqupnAl1vq34P1j337VoMBKfGgFObQIWRgbgRdDQ9K7P13N8GmbCUlH0ruS4jMckE9etZYj3ysFUI1hpciJOg0PwPJ018S8YBgFdCsOIdKC1nO6MMF-jK5jtzy6FTAbkGgnrYbdF3CrN1poZ8lXbBbhtpUaKVlWpjHzLtfSaZ5Uc3L4-dZIeXAz5akJ4KPNSSrVJqD-Hmw82342mUAnZwhbLrdcZtBPbU8d5sF_5brs2bPTcm8Pt-Q2mBG6AUJ9LvtzPkC08DokYXUTXPeA3dkAUiJ4y8L0PxVO2DuLM6BdwzjwzpfjjQiS0cre5qMNacFic4N6tmIWgb4yVEPrfvXAdpKyIWqOq6kSKxqIsdOGceHISfr_uOipVPf7PwXTtJ6UChEEcoeET1aeS4DrJYcR5cousUo5Xvv7zeR91-0O4xbEFIYjw4vypUJuyRnSfd6OwdU1qZRH8xBBoUxHXtEWskvxr6FaP5kUiSvlYJjWwVH9z1F8ggvKgbDL5KvTXvUDI5OLHHUcvQEhvU3zxNfUV2U5ylTWUrvo5MCXzSDV5G6PgPXO8iP-SAE5zT7bxI_RFB1vaBLbNdA7Y8lt2ywHbIoOXLbf3v3vEdF44OCGvfjoF5vs_ovKRKvO30l9oMB9q54S5P7Dh9pwJNassfiWasUmeKWzNoLAsXyeUzhipRgan6OyadeSbq5i-EzgUecQXM0HmwyYysZ0rwgs1LL_0gF5wzfaIMHFXjFkIpvFg8bAkBHQHOzldywsV8UK9KCk3TR7e0ZrrbEv2oqTJhVb5O2H2O3ACMzJBGRTpDz-Q85dwSwlKLHJed-aQDFaL0oWSjbIFproym3rE2_kSSbVixE0dFT1dUJ9RqZns3lx098hJ4bnBcMhfYv2v7cnY-AL61BL_u0fmqVJsCcwyOmkWgjkhmb8ShtA0euBLsXiUJCfqzBPSnxYT-3MC3FgHzNB_7dhEORxaH1v3Tf-Zsl7414ZpiWqe64aEsWUbb1ZqkxGYsBAJaLFKS6X6dXNN-H2knr16NOsvJ90v1jddhZLBJ746NC04WXQGRIkvIpMHhiQw-zTl1gFBV9UAxD2EnpDLmTX__3MzPWTIR9TDQbEf2W03KLLRtuXcIMhTm-Th_TL5uPnwpQyylhulQkcdHKk0-mwDXY-i1bOe8p-5ZkARoKQWkSSIrob5ISTZtpHJMR_i2M_OdQnxW3XfscDa311Sm-d6K2f5aiq-zHTmDUxBTXW3sae6rhcJmWL4SWwbzRJYWfcWmOvH_eL9XNZrwaeVBFXzGOdWs1DeM8sxivo8lhAU_h3AXqA2IFba4DqMJpfhcI5XLtBrSKnG_2GlrO_v4XOracIQ68FIviqsCdecrpvhRTWsx3Ni10Gu5G1wgAyGSuZ30kpbeG8loCRw3vlj_VfD2p73jZtWZSLXiamscsR2nPrjAoVsWf3pQ4Tj44wHOSnIKl7CTl9MBiqcFyxnXqhFyCsqVZ4Kxe9FP0xLyvBDrtagVhUrQgtKwloFfwy4noOKnKTX_eggem9y6IvRhad5w9___He3R_O6rpp7awiJt_223lCsLT3ao-Cgx-e7D2nCfKkdD-O5sd601UdFEVoO1Q2MgjVK8grb_Wt0PkGBXy15z2eT7Q3_K_1cGbGRD2cBM7DD2ovnbvWaF7brQltkiDclfXN6LAeBkHqFcI-cbzUP1A85Sa3qgmO6FMjZRI1PQQ1dK0uOchfOkfcRHJWBWqNWcLvKFzgiwRkz7MCbDSpsHv-IIAvDTo6jkE4O996v6yGOAcVJKJzrzAgheNk\",cRq: {ru: \\'aHR0cHM6Ly93d3cubWFsdC5mci8=\\',ra: \\'cHl0aG9uLXJlcXVlc3RzLzIuMzEuMA==\\',rm: \\'R0VU\\',d: \\'BXJecPj+se9cbzuQ9CNfkt2F8kH+zXH503ywzyp6xrhAmm9ZX9RhcuZog80mxBwUPw8hgwoLSt8nXWndELOSIJdLDWwcPWTF0T79gLuTAjsE335B1g4KlGz6p5zcj37pgVRFeA51UIqqc5vaymBu1ut59Tbjjl8D7eqTCsrp0ld1LE6874wP1AlbkwvDUgdjRQbVWcAxsGeQo+5iaDwGiO0IeiNDoxMhQdwDYA752CMxSrKE2sO+H9HfOsp7gv6rM57kDcryal0S9z3aT4SC0Q9zcouPz3v8KiEc9IrQpJIWQX/WxiVsfa3v9admfmado1HhO70dWh19x12tDbEegHdKmJFgbzk0K9wtxQGukgy6EtTjKwDaye9myIexxUPMjzxsZB3suGJ4BPEGxS3ka390LaRxIznwT7AAkb+yksjlZ+sLeagTp4awR/5PM1ttNqIZa6/9u6gTRgXGJ7vy+v6KKU01Ezya35YRc5EnosdAPHeemVc/Ov0J/qDZMycByJtHyGMEu2Wz0HRaX3zSTXAsXt195UZhOARhek2MRyRzokaQszZcVCbpq/HQGAHa5cwm1H7n1Kq7ZX88WjtT4Q==\\',t: \\'MTY5OTk3NjQ0OC41MzEwMDA=\\',cT: Math.floor(Date.now() / 1000),m: \\'hSjtMdpAJvyf0UExjzzui76ZpKz14xeDvWrIdfqvrUw=\\',i1: \\'C7BduJ6Sok748SCcCu0k3Q==\\',i2: \\'m9LGeQDOqV8H2YdC6JqMAg==\\',zh: \\'lC+oCJbZUA7Q9Se4EeNKPzZ76MtIXw7omhJlMi8uGh8=\\',uh: \\'YE9XOpG5TeHmhA1zfs5mxC8CrRZzq2a/+r+OU7dliYQ=\\',hh: \\'egK42bw1/XT0/X5yBmca11NZ9SXb74tnzVqir92xopI=\\',}};var cpo = document.createElement(\\'script\\');cpo.src = \\'/cdn-cgi/challenge-platform/h/g/orchestrate/chl_page/v1?ray=82605ae2ef5336a9\\';window._cf_chl_opt.cOgUHash = location.hash === \\'\\' && location.href.indexOf(\\'#\\') !== -1 ? \\'#\\' : location.hash;window._cf_chl_opt.cOgUQuery = location.search === \\'\\' && location.href.slice(0, location.href.length - window._cf_chl_opt.cOgUHash.length).indexOf(\\'?\\') !== -1 ? \\'?\\' : location.search;if (window.history && window.history.replaceState) {var ogU = location.pathname + window._cf_chl_opt.cOgUQuery + window._cf_chl_opt.cOgUHash;history.replaceState(null, null, \"\\\\/?__cf_chl_rt_tk=kImscxDjYyfKPCeuIHdCGxjT0DHc_kr3K4F5LtzRNaU-1699976448-0-gaNycGzNCmU\" + window._cf_chl_opt.cOgUHash);cpo.onload = function() {history.replaceState(null, null, ogU);}}document.getElementsByTagName(\\'head\\')[0].appendChild(cpo);}());</script><script defer src=\"https://static.cloudflareinsights.com/beacon.min.js/v84a3a4012de94ce1a686ba8c167c359c1696973893317\" integrity=\"sha512-euoFGowhlaLqXsPWQ48qSkBSCFs3DPRyiwVu3FjR96cMPx+Fr+gpWRhIafcHwqwCqWS42RZhIudOvEI+Ckf6MA==\" data-cf-beacon=\\'{\"rayId\":\"82605ae2ef5336a9\",\"b\":1,\"version\":\"2023.10.0\",\"token\":\"ae7676b005684a71990cff5437093dc4\"}\\' crossorigin=\"anonymous\"></script>\\n</body></html>'"
      ]
     },
     "execution_count": 124,
     "metadata": {},
     "output_type": "execute_result"
    }
   ],
   "source": [
    "import requests\n",
    "\n",
    "# Enter a proxy IP address and port.\n",
    "proxy = 'http://154.6.98.26:3128'\n",
    "\n",
    "# Initialize a URL.\n",
    "url = 'https://www.malt.fr'\n",
    "\n",
    "# Send a GET request to the url and pass the proxy as a parameter.\n",
    "page = requests.get(url,\n",
    "proxies={\"http\": proxy, \"https\": proxy})\n",
    "\n",
    "# Prints the content of the requested url.\n",
    "page.text"
   ]
  },
  {
   "cell_type": "markdown",
   "metadata": {},
   "source": [
    "INITIATE PROXY POOL"
   ]
  },
  {
   "cell_type": "code",
   "execution_count": 125,
   "metadata": {},
   "outputs": [],
   "source": [
    "import requests\n",
    "from itertools import cycle\n",
    "import traceback\n",
    "\n",
    "# Enter proxy ip's and ports in a list.\n",
    "proxies = {\n",
    "    ''\n",
    "}\n",
    "\n",
    "def rotate_proxy(proxy_pool): # Rotate the proxy pool. If the proxy is not working, it will be skipped.\n",
    "    proxy = next(proxy_pool)\n",
    "    while not requests.get('https://www.google.com', proxies={'http': proxy}).status_code == 200:\n",
    "        proxy = next(proxy_pool)\n",
    "    return proxy\n",
    "\n",
    "\n",
    "proxy_pool = cycle(proxies) # Create the proxy pool."
   ]
  },
  {
   "cell_type": "code",
   "execution_count": 126,
   "id": "2acab102-8494-4c6a-826b-db2e58992ec8",
   "metadata": {},
   "outputs": [],
   "source": [
    "def scrap_malt_user(links): # links is a list of links to scrap.\n",
    "    all_data = []\n",
    "\n",
    "    for link in links:\n",
    "        print(link)\n",
    "        proxy = rotate_proxy(proxy_pool)\n",
    "        print(proxy)\n",
    "        \n",
    "        firefox_options = webdriver.FirefoxOptions()\n",
    "        firefox_options.add_argument(f'--proxy-server=%s' % proxy)\n",
    "        driver = webdriver.Firefox(options=firefox_options)\n",
    "        \n",
    "        # get origin IP address\n",
    "        driver.get(\"http://httpbin.org/ip\")\n",
    "        print(driver.page_source)\n",
    "        break\n",
    "        \n",
    "        # chrome_options = webdriver.ChromeOptions()\n",
    "        # chrome_options.add_argument('--proxy-server=%s' % proxy)\n",
    "        # driver = uc.Chrome(options=chrome_options, use_subprocess=True)\n",
    "\n",
    "        wait = WebDriverWait(driver, 10)\n",
    "        driver.get(link)\n",
    "        page_source = driver.page_source\n",
    "        soup = BeautifulSoup(page_source, 'html.parser')\n",
    "        \n",
    "        data = {}\n",
    "\n",
    "        price_element = soup.find('div', {'data-testid': 'profile-price'})\n",
    "        if price_element:\n",
    "            price = price_element.find('span', class_='block-list__price').text\n",
    "            data['price'] = price.strip()\n",
    "        \n",
    "        # Récupérer l'expérience\n",
    "        experience_element = soup.find('span', text='Expérience')\n",
    "        if experience_element:\n",
    "            experience = experience_element.find_next('span', class_='profile-indicators-content').text\n",
    "            data['experience'] = experience.strip()\n",
    "        \n",
    "        # Récupérer le taux de réponse\n",
    "        response_rate_element = soup.find('span', text='Taux de réponse')\n",
    "        if response_rate_element:\n",
    "            response_rate = response_rate_element.find_next('span', class_='profile-indicators-content').text\n",
    "            data['response_rate'] = response_rate.strip()\n",
    "        \n",
    "        # Récupérer le temps de réponse\n",
    "        response_time_element = soup.find('span', text='Temps de réponse')\n",
    "        if response_time_element:\n",
    "            response_time = response_time_element.find_next('span', class_='profile-indicators-content').text\n",
    "            data['response_time'] = response_time.strip()\n",
    "            \n",
    "        # Récupérer le nom \n",
    "        name_element = soup.find('div', {'data-testid': 'profile-fullname'})\n",
    "        if name_element:\n",
    "            name = name_element.text\n",
    "            data['name'] = name.strip()\n",
    "            \n",
    "        # Récupérer le métier\n",
    "        headline_element = soup.find('div', {'data-testid': 'profile-headline'})\n",
    "        if headline_element:\n",
    "            headline = headline_element.text\n",
    "            data['headline'] = headline.strip()\n",
    "            \n",
    "        # Récupérer le nombre de missions\n",
    "        missions_element = soup.find('div', {'data-testid': 'profile-counter-missions'})\n",
    "        if missions_element:\n",
    "            missions = missions_element.find('strong').text\n",
    "            data['missions'] = missions.strip()\n",
    "            \n",
    "        # Récupérer toutes les catégories\n",
    "        categories_elements = soup.find_all('li', {'class': 'categories__list-item'})\n",
    "        categories = [category.find('a').text for category in categories_elements]\n",
    "        data['categories'] = categories\n",
    "        \n",
    "        \n",
    "        # Récupérer les compétences\n",
    "        competences_element = soup.find_all('div', {'class': 'profile-expertises__content-list-item__label'})\n",
    "        competences = [competence.find('a', class_='joy-link joy-link_teal').text.strip() for competence in competences_element]\n",
    "\n",
    "        data['competences'] = competences\n",
    "        \n",
    "        # Récupérer le statut \"Supermalter\"\n",
    "        supermalter_element = soup.find('span', class_='joy-badge-level__tag blue')\n",
    "        if supermalter_element:\n",
    "            supermalter = supermalter_element.get_text(strip=True)\n",
    "            data['supermalter'] = supermalter\n",
    "            \n",
    "        # Récupérer la localisation\n",
    "        location_element = soup.find('dl', {'class': 'profile__location-and-workplace-preferences__item'})\n",
    "        if location_element:\n",
    "            location_label = location_element.find('dt', {'data-testid': 'profile-location-address-label'})\n",
    "            location_value = location_element.find('dd', {'data-testid': 'profile-location-preference-address'})\n",
    "\n",
    "            if location_label and location_value:\n",
    "                location = {location_label.text: location_value.text}\n",
    "                data['location'] = location\n",
    "                \n",
    "        # Récupérer la préférence de télétravail\n",
    "        teletravail_element = soup.find('dl', {'class': 'profile-page-mission-preferences__item'})\n",
    "        if teletravail_element:\n",
    "            teletravail_label = teletravail_element.find('dt')\n",
    "            teletravail_value = teletravail_element.find('dd')\n",
    "\n",
    "            if teletravail_label and teletravail_value:\n",
    "                teletravail_preference = {teletravail_label.text: teletravail_value.text}\n",
    "                data['teletravail_preference'] = teletravail_preference\n",
    "                \n",
    "        # Récupérer le nombre de recommandations\n",
    "        recommendations_element = soup.find('span', {'data-testid': 'profile-counter-recommendations'})\n",
    "        if recommendations_element:\n",
    "            recommendations_count = int(recommendations_element.text.split()[0])\n",
    "            data['recommendations'] = recommendations_count   \n",
    "            \n",
    "\n",
    "        # Récupérer le message de présentation\n",
    "        presentation_element = soup.find('div', {'class': 'profile-description__content'})\n",
    "        if presentation_element:\n",
    "            presentation_message = presentation_element.get_text(strip=True)\n",
    "            data['presentation'] = presentation_message\n",
    "            \n",
    "            \n",
    "        all_data.append(data)\n",
    "        \n",
    "        driver.quit()\n",
    "\n",
    "    return all_data"
   ]
  },
  {
   "cell_type": "code",
   "execution_count": 127,
   "id": "703537a8-6bf8-44e5-bd74-0948d0c3ddb7",
   "metadata": {},
   "outputs": [
    {
     "name": "stdout",
     "output_type": "stream",
     "text": [
      "https://www.malt.fr/profile/bricetillet\n",
      "38.62.222.144:3128\n",
      "<html platform=\"linux\" class=\"theme-dark\" dir=\"ltr\"><head><meta http-equiv=\"Content-Security-Policy\" content=\"default-src 'none' ; script-src resource:; \"><link rel=\"stylesheet\" type=\"text/css\" href=\"chrome://devtools-jsonview-styles/content/main.css\"><script type=\"text/javascript\" charset=\"utf-8\" async=\"\" data-requirecontext=\"_\" data-requiremodule=\"viewer-config\" src=\"resource://devtools/client/jsonview/viewer-config.js\"></script><script type=\"text/javascript\" charset=\"utf-8\" async=\"\" data-requirecontext=\"_\" data-requiremodule=\"json-viewer\" src=\"resource://devtools/client/jsonview/json-viewer.js\"></script><script type=\"text/javascript\" charset=\"utf-8\" async=\"\" data-requirecontext=\"_\" data-requiremodule=\"devtools/client/shared/vendor/react-dom\" src=\"resource://devtools/client/shared/vendor/react-dom.js\"></script><script type=\"text/javascript\" charset=\"utf-8\" async=\"\" data-requirecontext=\"_\" data-requiremodule=\"devtools/client/shared/react-utils\" src=\"resource://devtools/client/shared/react-utils.js\"></script><script type=\"text/javascript\" charset=\"utf-8\" async=\"\" data-requirecontext=\"_\" data-requiremodule=\"devtools/client/jsonview/components/MainTabbedArea\" src=\"resource://devtools/client/jsonview/components/MainTabbedArea.js\"></script><script type=\"text/javascript\" charset=\"utf-8\" async=\"\" data-requirecontext=\"_\" data-requiremodule=\"devtools/client/shared/components/tree/TreeView\" src=\"resource://devtools/client/shared/components/tree/TreeView.js\"></script><script type=\"text/javascript\" charset=\"utf-8\" async=\"\" data-requirecontext=\"_\" data-requiremodule=\"devtools/client/shared/vendor/react\" src=\"resource://devtools/client/shared/vendor/react.js\"></script><script type=\"text/javascript\" charset=\"utf-8\" async=\"\" data-requirecontext=\"_\" data-requiremodule=\"devtools/client/shared/vendor/react-prop-types\" src=\"resource://devtools/client/shared/vendor/react-prop-types.js\"></script><script type=\"text/javascript\" charset=\"utf-8\" async=\"\" data-requirecontext=\"_\" data-requiremodule=\"devtools/client/jsonview/components/JsonPanel\" src=\"resource://devtools/client/jsonview/components/JsonPanel.js\"></script><script type=\"text/javascript\" charset=\"utf-8\" async=\"\" data-requirecontext=\"_\" data-requiremodule=\"devtools/client/jsonview/components/TextPanel\" src=\"resource://devtools/client/jsonview/components/TextPanel.js\"></script><script type=\"text/javascript\" charset=\"utf-8\" async=\"\" data-requirecontext=\"_\" data-requiremodule=\"devtools/client/jsonview/components/HeadersPanel\" src=\"resource://devtools/client/jsonview/components/HeadersPanel.js\"></script><script type=\"text/javascript\" charset=\"utf-8\" async=\"\" data-requirecontext=\"_\" data-requiremodule=\"devtools/client/shared/components/tabs/Tabs\" src=\"resource://devtools/client/shared/components/tabs/Tabs.js\"></script></head><body><div id=\"content\"><div id=\"json\">{\n",
      "  \"origin\": \"88.142.209.26\"\n",
      "}\n",
      "</div></div><script src=\"resource://devtools/client/jsonview/lib/require.js\" data-main=\"resource://devtools/client/jsonview/viewer-config.js\"></script></body></html>\n"
     ]
    },
    {
     "data": {
      "text/plain": [
       "[]"
      ]
     },
     "execution_count": 127,
     "metadata": {},
     "output_type": "execute_result"
    }
   ],
   "source": [
    "profile_links = pd.read_csv('../data/links.csv')\n",
    "profile_links['profil'] = profile_links['profil'].apply(lambda x: x.replace('https://www.malt.fr/profile/', ''))\n",
    "profile_links = profile_links['profil'].tolist()\n",
    "profile_links = [f'https://www.malt.fr/profile/{link}' for link in profile_links]\n",
    "\n",
    "data = scrap_malt_user(profile_links[:3])\n",
    "data"
   ]
  },
  {
   "cell_type": "code",
   "execution_count": 128,
   "id": "e61e4291-0e0e-47c2-bf83-2913657d7c84",
   "metadata": {},
   "outputs": [],
   "source": [
    "def save_to_csv(data, csv_filename):\n",
    "    # Assurez-vous que la liste de données n'est pas vide\n",
    "    if not data:\n",
    "        print(\"Aucune donnée à enregistrer.\")\n",
    "        return\n",
    "\n",
    "    # Créez une liste de noms de colonnes pour le CSV en incluant les nouveaux éléments\n",
    "    fieldnames = ['name', 'headline', 'price', 'experience', 'response_rate', 'response_time', 'missions', 'categories', 'competences', 'supermalter', 'location','presentation', 'recommendations', 'teletravail_preference']\n",
    "\n",
    "    # Ouvrir le fichier CSV en mode écriture\n",
    "    with open(csv_filename, 'w', newline='', encoding='utf-8') as csv_file:\n",
    "        writer = csv.DictWriter(csv_file, fieldnames=fieldnames)\n",
    "\n",
    "        # Écrire les en-têtes\n",
    "        writer.writeheader()\n",
    "\n",
    "        # Écrire les données\n",
    "        for entry in data:\n",
    "            writer.writerow(entry)\n",
    "\n",
    "    print(f\"Données enregistrées dans {csv_filename}\")"
   ]
  },
  {
   "cell_type": "code",
   "execution_count": 129,
   "id": "c6ce171a-cfba-4045-a89e-d83c0d4af58a",
   "metadata": {},
   "outputs": [
    {
     "name": "stdout",
     "output_type": "stream",
     "text": [
      "Aucune donnée à enregistrer.\n"
     ]
    }
   ],
   "source": [
    "csv_filename = 'malt_data.csv'\n",
    "save_to_csv(data, csv_filename)"
   ]
  }
 ],
 "metadata": {
  "kernelspec": {
   "display_name": "Python 3 (ipykernel)",
   "language": "python",
   "name": "python3"
  },
  "language_info": {
   "codemirror_mode": {
    "name": "ipython",
    "version": 3
   },
   "file_extension": ".py",
   "mimetype": "text/x-python",
   "name": "python",
   "nbconvert_exporter": "python",
   "pygments_lexer": "ipython3",
   "version": "3.11.5"
  }
 },
 "nbformat": 4,
 "nbformat_minor": 5
}
