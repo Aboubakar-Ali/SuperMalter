{
 "cells": [
  {
   "cell_type": "markdown",
   "metadata": {},
   "source": [
    "# Données du modele d'apprentissage\n",
    "\n",
    "* Missions\n",
    "* Experience\n",
    "* Tarifs\n",
    "* Région\n",
    "* Compétences\n",
    "* SuperMalter\n"
   ]
  },
  {
   "cell_type": "markdown",
   "metadata": {},
   "source": [
    "# Nettoyage final du fichier csv pour notre MA"
   ]
  },
  {
   "cell_type": "code",
   "execution_count": 37,
   "metadata": {},
   "outputs": [
    {
     "data": {
      "text/html": [
       "<div>\n",
       "<style scoped>\n",
       "    .dataframe tbody tr th:only-of-type {\n",
       "        vertical-align: middle;\n",
       "    }\n",
       "\n",
       "    .dataframe tbody tr th {\n",
       "        vertical-align: top;\n",
       "    }\n",
       "\n",
       "    .dataframe thead th {\n",
       "        text-align: right;\n",
       "    }\n",
       "</style>\n",
       "<table border=\"1\" class=\"dataframe\">\n",
       "  <thead>\n",
       "    <tr style=\"text-align: right;\">\n",
       "      <th></th>\n",
       "      <th>price</th>\n",
       "      <th>experience</th>\n",
       "      <th>missions</th>\n",
       "      <th>competences</th>\n",
       "      <th>supermalter</th>\n",
       "      <th>Region_Name</th>\n",
       "    </tr>\n",
       "  </thead>\n",
       "  <tbody>\n",
       "    <tr>\n",
       "      <th>0</th>\n",
       "      <td>350</td>\n",
       "      <td>3-7 ans</td>\n",
       "      <td>1 015</td>\n",
       "      <td>['Flyer', 'Affiche', 'Graphisme', 'Design logo...</td>\n",
       "      <td>1</td>\n",
       "      <td>normandie</td>\n",
       "    </tr>\n",
       "  </tbody>\n",
       "</table>\n",
       "</div>"
      ],
      "text/plain": [
       "   price experience missions  \\\n",
       "0    350    3-7 ans    1 015   \n",
       "\n",
       "                                         competences  supermalter Region_Name  \n",
       "0  ['Flyer', 'Affiche', 'Graphisme', 'Design logo...            1   normandie  "
      ]
     },
     "execution_count": 37,
     "metadata": {},
     "output_type": "execute_result"
    }
   ],
   "source": [
    "import pandas as pd\n",
    "import ast\n",
    "\n",
    "\n",
    "df_malt = pd.read_csv('malt_data.csv')\n",
    "df_cities = pd.read_csv('cities.csv')\n",
    "\n",
    "# Convertir la colonne 'location' de chaîne en dictionnaire et extraire la ville\n",
    "def extract_city(location_str):\n",
    "    try:\n",
    "        location_dict = ast.literal_eval(location_str)\n",
    "        city_country = location_dict.get('Localisation', '')\n",
    "        city = city_country.split(',')[0].strip()\n",
    "        return city\n",
    "    except:\n",
    "        return None\n",
    "\n",
    "\n",
    "\n",
    "df_malt['Ville'] = df_malt['location'].apply(extract_city)\n",
    "\n",
    "\n",
    "\n",
    "# Correspondance partielle pour trouver la région\n",
    "def find_region_name(city):\n",
    "    for index, row in df_cities.iterrows():\n",
    "        if city.lower() in row['label'].lower():\n",
    "            return row['region_name']\n",
    "    return None\n",
    "\n",
    "\n",
    "df_malt['Region_Name'] = df_malt['Ville'].apply(find_region_name)\n",
    "\n",
    "# Suppression des colonnes inutiles\n",
    "df_malt = df_malt.drop(columns=['name'])\n",
    "df_malt = df_malt.drop(columns=['location'])\n",
    "df_malt = df_malt.drop(columns=['presentation'])\n",
    "df_malt = df_malt.drop(columns=['recommendations'])\n",
    "df_malt = df_malt.drop(columns=['teletravail_preference'])\n",
    "df_malt = df_malt.drop(columns=['Ville'])\n",
    "df_malt = df_malt.drop(columns=['categories'])\n",
    "df_malt = df_malt.drop(columns=['response_time'])\n",
    "df_malt = df_malt.drop(columns=['response_rate'])\n",
    "df_malt = df_malt.drop(columns=['headline'])\n",
    "\n",
    "# Nettoyage de la colonne 'price'\n",
    "df_malt['price'] = df_malt['price'].str.replace('€', '').str.strip().astype(int)\n",
    "# Remplacer les valeurs de la colonne 'supermalter'\n",
    "df_malt['supermalter'] = df_malt['supermalter'].apply(lambda x: 1 if x == 'Supermalter' else 0)\n",
    "\n",
    "\n",
    "\n",
    "\n",
    "\n",
    "df_malt"
   ]
  }
 ],
 "metadata": {
  "kernelspec": {
   "display_name": "Python 3",
   "language": "python",
   "name": "python3"
  },
  "language_info": {
   "codemirror_mode": {
    "name": "ipython",
    "version": 3
   },
   "file_extension": ".py",
   "mimetype": "text/x-python",
   "name": "python",
   "nbconvert_exporter": "python",
   "pygments_lexer": "ipython3",
   "version": "3.10.2"
  }
 },
 "nbformat": 4,
 "nbformat_minor": 2
}
