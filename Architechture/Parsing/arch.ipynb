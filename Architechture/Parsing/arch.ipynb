{
 "cells": [
  {
   "cell_type": "markdown",
   "metadata": {},
   "source": [
    "# Données du modele d'apprentissage\n",
    "\n",
    "* Missions\n",
    "* Experience\n",
    "* Tarifs\n",
    "* Région\n",
    "* Compétences\n",
    "* SuperMalter\n"
   ]
  },
  {
   "cell_type": "markdown",
   "metadata": {},
   "source": [
    "# Nettoyage final du fichier csv pour notre MA"
   ]
  },
  {
   "cell_type": "code",
   "execution_count": 9,
   "metadata": {},
   "outputs": [],
   "source": [
    "import pandas as pd\n",
    "import ast\n",
    "\n",
    "\n",
    "# df_malt = pd.read_csv('malt_data.csv')\n",
    "df_cities = pd.read_csv('cities.csv')\n",
    "df_malt = pd.read_csv('../../scrapping/data/sample.csv')\n",
    "\n",
    "# Convertir la colonne 'location' de chaîne en dictionnaire et extraire la ville\n",
    "def extract_city(location_str):\n",
    "    try:\n",
    "        location_dict = ast.literal_eval(location_str)\n",
    "        city_country = location_dict.get('Localisation', '')\n",
    "        city = city_country.split(',')[0].strip()\n",
    "        return city\n",
    "    except:\n",
    "        return None\n",
    "\n",
    "\n",
    "\n",
    "df_malt['Ville'] = df_malt['location'].apply(extract_city)\n",
    "\n",
    "\n",
    "\n",
    "# Correspondance partielle pour trouver la région\n",
    "def find_region_name(city):\n",
    "    for index, row in df_cities.iterrows():\n",
    "        if city.lower() in row['label'].lower():\n",
    "            return row['region_name']\n",
    "    return None\n",
    "\n",
    "\n",
    "df_malt['Region_Name'] = df_malt['Ville'].apply(find_region_name)\n",
    "\n",
    "# Suppression des colonnes inutiles\n",
    "columns_to_drop = ['name', 'location', 'presentation', 'recommendations', \n",
    "                   'teletravail_preference',  'categories', 'response_time',\n",
    "                     'response_rate', 'headline']\n",
    "df_malt = df_malt.drop(columns=columns_to_drop)\n",
    "\n",
    "# Nettoyage de la colonne 'price'\n",
    "df_malt['price'] = df_malt['price'].str.replace('€', '').str.replace('\\u202f', '').str.replace(r'\\D', '', regex=True).astype(int)\n",
    "\n",
    "# Remplacer les valeurs de la colonne 'supermalter'\n",
    "df_malt['supermalter'] = df_malt['supermalter'].apply(lambda x: 1 if x == 'Supermalter' else 0)\n",
    "\n",
    "\n",
    "df_malt.to_csv('Clean.csv', index=False)\n",
    "\n"
   ]
  }
 ],
 "metadata": {
  "kernelspec": {
   "display_name": "Python 3",
   "language": "python",
   "name": "python3"
  },
  "language_info": {
   "codemirror_mode": {
    "name": "ipython",
    "version": 3
   },
   "file_extension": ".py",
   "mimetype": "text/x-python",
   "name": "python",
   "nbconvert_exporter": "python",
   "pygments_lexer": "ipython3",
   "version": "3.10.2"
  }
 },
 "nbformat": 4,
 "nbformat_minor": 2
}
