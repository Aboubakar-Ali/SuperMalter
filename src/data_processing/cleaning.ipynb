{
 "cells": [
  {
   "cell_type": "code",
   "execution_count": 1,
   "metadata": {},
   "outputs": [
    {
     "name": "stdout",
     "output_type": "stream",
     "text": [
      "             price  response_rate  supermalter  recommendations     missions   \n",
      "count  7794.000000    7547.000000  7794.000000      7794.000000  7794.000000  \\\n",
      "mean   1094.624840       0.971373     0.036567         0.524634     0.303310   \n",
      "std     426.930526       0.108090     0.187707         8.449925     3.884132   \n",
      "min     801.000000       0.120000     0.000000         0.000000     0.000000   \n",
      "25%     900.000000       1.000000     0.000000         0.000000     0.000000   \n",
      "50%    1000.000000       1.000000     0.000000         0.000000     0.000000   \n",
      "75%    1200.000000       1.000000     0.000000         0.000000     0.000000   \n",
      "max    5000.000000       1.000000     1.000000       739.000000   182.000000   \n",
      "\n",
      "       teletravail_preference  \n",
      "count                  7794.0  \n",
      "mean                      0.0  \n",
      "std                       0.0  \n",
      "min                       0.0  \n",
      "25%                       0.0  \n",
      "50%                       0.0  \n",
      "75%                       0.0  \n",
      "max                       0.0  \n"
     ]
    }
   ],
   "source": [
    "import pandas as pd\n",
    "\n",
    "df = pd.read_csv('../../data/final_parsed_malt_data.csv')\n",
    "\n",
    "# Set a threshold(95e percentile)\n",
    "threshold = df['price'].quantile(0.95)\n",
    "# Data > Set a threshold\n",
    "outliers = df[df['price'] > threshold]\n",
    "# Analyser ces données\n",
    "print(outliers.describe())"
   ]
  },
  {
   "cell_type": "code",
   "execution_count": 2,
   "metadata": {},
   "outputs": [],
   "source": [
    "df = df[df['price'] < 2000] # Remove outliers from the dataset (fake profiles)\n",
    "df = df[df['price'] > 125] # price is between 125 and 2000"
   ]
  },
  {
   "cell_type": "code",
   "execution_count": 4,
   "metadata": {},
   "outputs": [],
   "source": [
    "df.to_csv('../../data/final_parsed_malt_data_cleaned.csv', index=False)"
   ]
  }
 ],
 "metadata": {
  "kernelspec": {
   "display_name": "Python 3",
   "language": "python",
   "name": "python3"
  },
  "language_info": {
   "codemirror_mode": {
    "name": "ipython",
    "version": 3
   },
   "file_extension": ".py",
   "mimetype": "text/x-python",
   "name": "python",
   "nbconvert_exporter": "python",
   "pygments_lexer": "ipython3",
   "version": "3.11.6"
  }
 },
 "nbformat": 4,
 "nbformat_minor": 2
}
