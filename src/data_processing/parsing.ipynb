{
 "cells": [
  {
   "cell_type": "code",
   "execution_count": 1,
   "metadata": {},
   "outputs": [
    {
     "name": "stderr",
     "output_type": "stream",
     "text": [
      "/tmp/ipykernel_36764/1339886903.py:9: DtypeWarning: Columns (13) have mixed types. Specify dtype option on import or set low_memory=False.\n",
      "  df = pd.read_csv(file_malt_csv)\n"
     ]
    }
   ],
   "source": [
    "import pandas as pd\n",
    "import numpy as np\n",
    "# import matplotlib.pyplot as plt\n",
    "\n",
    "file_malt_csv = \"../../data/malt_data_scrapped.csv\"\n",
    "# file_malt_csv_names = \"./script_scrapping_malt/Data/analyse_names.csv\"\n",
    "# file_csv = './script_scrapping_malt/Data/clean_malt.csv'\n",
    "\n",
    "df = pd.read_csv(file_malt_csv)\n",
    "# df = pd.read_csv(file_malt_csv_names)\n",
    "# df = pd.read_csv(file_csv)"
   ]
  },
  {
   "cell_type": "code",
   "execution_count": 2,
   "metadata": {},
   "outputs": [],
   "source": [
    "# # Supermalter\n",
    "df['supermalter'] = df['supermalter'].str.contains('Supermalter').replace(np.nan,'0')\n",
    "df['supermalter'] = df['supermalter'].astype(int)"
   ]
  },
  {
   "cell_type": "code",
   "execution_count": 3,
   "metadata": {},
   "outputs": [],
   "source": [
    "# Column Recommandations\n",
    "df['recommendations'] = df['recommendations'].fillna(0).astype(int)"
   ]
  },
  {
   "cell_type": "code",
   "execution_count": 4,
   "metadata": {},
   "outputs": [],
   "source": [
    "# Teletavail Preference\n",
    "df['teletravail_preference'] = np.where(df['teletravail_preference'].astype(str).str.contains('Télétravail'), 1,\n",
    "np.where(df['teletravail_preference'].astype(str).str.contains('Peut travailler dans vos locaux à'), 0, np.nan))\n",
    "df['teletravail_preference'] = df['teletravail_preference'].fillna(0).astype(int)"
   ]
  },
  {
   "cell_type": "code",
   "execution_count": 5,
   "metadata": {},
   "outputs": [],
   "source": [
    "# column \"competences\" to \"skills\"\n",
    "df.rename(columns={'competences': 'skills'}, inplace=True)"
   ]
  },
  {
   "cell_type": "code",
   "execution_count": 6,
   "metadata": {},
   "outputs": [],
   "source": [
    "# # column \"responce_rate\" to float\n",
    "df['response_rate'] = df['response_rate'].str.replace('%', '', regex=False)\n",
    "df['response_rate'] = df['response_rate'].astype(float)\n",
    "df['response_rate'] = df['response_rate'] / 100"
   ]
  },
  {
   "cell_type": "code",
   "execution_count": 7,
   "metadata": {},
   "outputs": [],
   "source": [
    "# column \"price\" to int\n",
    "df['price'] = df['price'].str.replace('€', '')\n",
    "df['price'] = df['price'].str.replace(r'\\D', '', regex=True)\n",
    "df['price'] = df['price'].fillna(0).astype('int32')\n"
   ]
  },
  {
   "cell_type": "code",
   "execution_count": 8,
   "metadata": {},
   "outputs": [],
   "source": [
    "df['missions'] = df['missions'].str.replace('\\u202f', '').astype(float).fillna(0).astype(int)\n"
   ]
  },
  {
   "cell_type": "code",
   "execution_count": 9,
   "metadata": {},
   "outputs": [],
   "source": [
    "# Fonction qui anonymise les noms en utilisant les informations de genre\n",
    "# def anonymize_names(df, file_malt_csv_names, file_malt_csv):\n",
    "#     try:\n",
    "#         # Charger les fichiers CSV s'ils existent\n",
    "#         df_names = pd.read_csv(file_malt_csv_names)\n",
    "#         df_gender = pd.read_csv(file_malt_csv)\n",
    "        \n",
    "#         # Créer un dictionnaire de correspondance des noms avec leur genre\n",
    "#         name_gender_dict = dict(zip(df_names['Name'], df_gender['Gender']))\n",
    "        \n",
    "#         # Appliquer la correspondance des genres aux noms dans le DataFrame\n",
    "#         df['Gender'] = df['Name'].map(name_gender_dict)\n",
    "        \n",
    "#         # Afficher le DataFrame avec la nouvelle colonne 'Gender' contenant les genres anonymisés\n",
    "#         print(df)\n",
    "    \n",
    "#     except FileNotFoundError:\n",
    "#         # Si l'un des fichiers CSV n'existe pas, créer un nouveau fichier pour les noms et les genres\n",
    "#         # Vous pouvez remplacer ces données par les noms et les genres réels que vous souhaitez inclure\n",
    "#         new_names_data = {'Name': ['John', 'Alice', 'Bob'],\n",
    "#                           'Gender': ['Men', 'Women', 'Men']}\n",
    "        \n",
    "#         # Créer un DataFrame à partir des nouvelles données\n",
    "#         new_df_names = pd.DataFrame(new_names_data)\n",
    "        \n",
    "#         # Enregistrer le DataFrame dans un fichier CSV\n",
    "#         new_df_names.to_csv(file_malt_csv_names, index=False)\n",
    "        \n",
    "#         # Utiliser des genres par défaut pour créer un fichier de genres si nécessaire\n",
    "#         # Assurez-vous d'adapter ces données selon vos besoins\n",
    "#         new_gender_data = {'Gender': ['Men', 'Women']}\n",
    "#         new_df_gender = pd.DataFrame(new_gender_data)\n",
    "        \n",
    "#         # Enregistrer le DataFrame dans un fichier CSV\n",
    "#         new_df_gender.to_csv(file_malt_csv, index=False)\n",
    "\n",
    "#         print(\"Fichiers CSV créés avec des données par défaut. Veuillez les personnaliser avec vos données réelles.\")\n",
    "\n",
    "# # Appeler la fonction pour anonymiser les noms en utilisant les informations de genre\n",
    "# anonymize_names(df, file_malt_csv_names, file_malt_csv)²"
   ]
  },
  {
   "cell_type": "code",
   "execution_count": 10,
   "metadata": {},
   "outputs": [],
   "source": [
    "# remove ans in experience column\n",
    "\n",
    "df['experience'] = df['experience'].str.replace('ans', '')\n",
    "df['experience'] = df['experience'].str.replace(' ', '')"
   ]
  },
  {
   "cell_type": "code",
   "execution_count": 11,
   "metadata": {},
   "outputs": [
    {
     "name": "stdout",
     "output_type": "stream",
     "text": [
      "                name                                      profile_image  \\\n",
      "0  Alexandre Labayle                                   No profile image   \n",
      "1     José Thermique  https://dam.malt.com/p6afuz3bhpd4xrvbbcpu?grav...   \n",
      "2      Jérémy Herman                                   No profile image   \n",
      "3       vince huguet                                   No profile image   \n",
      "4    Patrick Bernard  https://dam.malt.com/f7d1sqcjznocacdi83ng?grav...   \n",
      "\n",
      "                        headline experience  price  response_rate  \\\n",
      "0  Consultant décisionnel Senior          -    700            1.0   \n",
      "1   Aménagement de salle de bain          -    400            NaN   \n",
      "2           Photographe/Vidéaste          -    125            1.0   \n",
      "3                    Webdesigner          -    499            1.0   \n",
      "4                Expert Java/JEE          -    550            0.5   \n",
      "\n",
      "  response_time                    categories  \\\n",
      "0            1h                            []   \n",
      "1            1h                            []   \n",
      "2            1h               ['Photographe']   \n",
      "3            1h               ['Webdesigner']   \n",
      "4            1h  ['Développeur Web Back-end']   \n",
      "\n",
      "                                              skills  supermalter  \\\n",
      "0  ['Business object', 'SQL Server', 'Microsoft B...            0   \n",
      "1  ['depannage', 'douche', 'bains', 'chauffage', ...            0   \n",
      "2  ['Photographie', 'Réalisation vidéo', 'paris',...            0   \n",
      "3                                         ['Design']            0   \n",
      "4  ['Hibernate', 'Spring', 'Eclipse', 'TDD', 'Scr...            0   \n",
      "\n",
      "                                 location  \\\n",
      "0                    {'Localisation': ''}   \n",
      "1                    {'Localisation': ''}   \n",
      "2                    {'Localisation': ''}   \n",
      "3       {'Localisation': 'Paris, France'}   \n",
      "4  {'Localisation': '89100 Sens, France'}   \n",
      "\n",
      "                                        presentation  recommendations  \\\n",
      "0  Consultant Senior en Business Intelligence , 1...                0   \n",
      "1  Bonjour je suis plombier-chauffagiste, spécial...                0   \n",
      "2                                            Bonjour                0   \n",
      "3                               Je vous dis bonjour.                0   \n",
      "4  Ancien Geek, soigné par 10 ans en Californie! ...                0   \n",
      "\n",
      "   missions  teletravail_preference            profil  \\\n",
      "0         0                       0  alexandrelabayle   \n",
      "1         0                       0     josethermique   \n",
      "2         0                       0      jeremyherman   \n",
      "3         0                       0       vincehuguet   \n",
      "4         0                       0    patrickbernard   \n",
      "\n",
      "                                           link creation_date  \n",
      "0  https://www.malt.fr/profile/alexandrelabayle    2014-02-04  \n",
      "1     https://www.malt.fr/profile/josethermique    2014-02-19  \n",
      "2      https://www.malt.fr/profile/jeremyherman    2014-03-04  \n",
      "3       https://www.malt.fr/profile/vincehuguet    2013-02-26  \n",
      "4    https://www.malt.fr/profile/patrickbernard    2013-10-26  \n"
     ]
    }
   ],
   "source": [
    "print(df.head())\n",
    "\n",
    "Clean_csv = \"../../data/parsed_malt_data.csv\"\n",
    "\n",
    "df.to_csv(Clean_csv, index=False)"
   ]
  }
 ],
 "metadata": {
  "kernelspec": {
   "display_name": "Python 3",
   "language": "python",
   "name": "python3"
  },
  "language_info": {
   "codemirror_mode": {
    "name": "ipython",
    "version": 3
   },
   "file_extension": ".py",
   "mimetype": "text/x-python",
   "name": "python",
   "nbconvert_exporter": "python",
   "pygments_lexer": "ipython3",
   "version": "3.11.6"
  }
 },
 "nbformat": 4,
 "nbformat_minor": 2
}
