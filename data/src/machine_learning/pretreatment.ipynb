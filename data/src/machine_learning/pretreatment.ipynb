{
 "cells": [
  {
   "cell_type": "markdown",
   "metadata": {},
   "source": [
    "# Learning model data(TJM)\n",
    "\n",
    "* Experience\n",
    "* Region\n",
    "* Category\n",
    "* SuperMalter\n",
    "* price"
   ]
  },
  {
   "cell_type": "markdown",
   "metadata": {},
   "source": [
    "# Parsing "
   ]
  },
  {
   "cell_type": "code",
   "execution_count": 2,
   "metadata": {},
   "outputs": [
    {
     "name": "stdout",
     "output_type": "stream",
     "text": [
      "Columns already dropped\n"
     ]
    },
    {
     "data": {
      "text/html": [
       "<div>\n",
       "<style scoped>\n",
       "    .dataframe tbody tr th:only-of-type {\n",
       "        vertical-align: middle;\n",
       "    }\n",
       "\n",
       "    .dataframe tbody tr th {\n",
       "        vertical-align: top;\n",
       "    }\n",
       "\n",
       "    .dataframe thead th {\n",
       "        text-align: right;\n",
       "    }\n",
       "</style>\n",
       "<table border=\"1\" class=\"dataframe\">\n",
       "  <thead>\n",
       "    <tr style=\"text-align: right;\">\n",
       "      <th></th>\n",
       "      <th>experience</th>\n",
       "      <th>price</th>\n",
       "      <th>supermalter</th>\n",
       "      <th>Region_Name</th>\n",
       "    </tr>\n",
       "  </thead>\n",
       "  <tbody>\n",
       "    <tr>\n",
       "      <th>0</th>\n",
       "      <td>8-15 ans</td>\n",
       "      <td>550</td>\n",
       "      <td>0</td>\n",
       "      <td>bourgogne-franche-comté</td>\n",
       "    </tr>\n",
       "    <tr>\n",
       "      <th>1</th>\n",
       "      <td>8-15 ans</td>\n",
       "      <td>350</td>\n",
       "      <td>0</td>\n",
       "      <td>île-de-france</td>\n",
       "    </tr>\n",
       "    <tr>\n",
       "      <th>2</th>\n",
       "      <td>8-15 ans</td>\n",
       "      <td>900</td>\n",
       "      <td>0</td>\n",
       "      <td>auvergne-rhône-alpes</td>\n",
       "    </tr>\n",
       "    <tr>\n",
       "      <th>3</th>\n",
       "      <td>8-15 ans</td>\n",
       "      <td>1000</td>\n",
       "      <td>0</td>\n",
       "      <td>île-de-france</td>\n",
       "    </tr>\n",
       "    <tr>\n",
       "      <th>4</th>\n",
       "      <td>8-15 ans</td>\n",
       "      <td>600</td>\n",
       "      <td>0</td>\n",
       "      <td>nouvelle-aquitaine</td>\n",
       "    </tr>\n",
       "    <tr>\n",
       "      <th>...</th>\n",
       "      <td>...</td>\n",
       "      <td>...</td>\n",
       "      <td>...</td>\n",
       "      <td>...</td>\n",
       "    </tr>\n",
       "    <tr>\n",
       "      <th>24114</th>\n",
       "      <td>0-2 ans</td>\n",
       "      <td>130</td>\n",
       "      <td>0</td>\n",
       "      <td>hauts-de-france</td>\n",
       "    </tr>\n",
       "    <tr>\n",
       "      <th>24115</th>\n",
       "      <td>3-7 ans</td>\n",
       "      <td>350</td>\n",
       "      <td>0</td>\n",
       "      <td>île-de-france</td>\n",
       "    </tr>\n",
       "    <tr>\n",
       "      <th>24116</th>\n",
       "      <td>0-2 ans</td>\n",
       "      <td>150</td>\n",
       "      <td>0</td>\n",
       "      <td>île-de-france</td>\n",
       "    </tr>\n",
       "    <tr>\n",
       "      <th>24117</th>\n",
       "      <td>0-2 ans</td>\n",
       "      <td>125</td>\n",
       "      <td>0</td>\n",
       "      <td>île-de-france</td>\n",
       "    </tr>\n",
       "    <tr>\n",
       "      <th>24118</th>\n",
       "      <td>8-15 ans</td>\n",
       "      <td>480</td>\n",
       "      <td>0</td>\n",
       "      <td>nouvelle-aquitaine</td>\n",
       "    </tr>\n",
       "  </tbody>\n",
       "</table>\n",
       "<p>24119 rows × 4 columns</p>\n",
       "</div>"
      ],
      "text/plain": [
       "      experience  price  supermalter              Region_Name\n",
       "0       8-15 ans    550            0  bourgogne-franche-comté\n",
       "1       8-15 ans    350            0            île-de-france\n",
       "2       8-15 ans    900            0     auvergne-rhône-alpes\n",
       "3       8-15 ans   1000            0            île-de-france\n",
       "4       8-15 ans    600            0       nouvelle-aquitaine\n",
       "...          ...    ...          ...                      ...\n",
       "24114    0-2 ans    130            0          hauts-de-france\n",
       "24115    3-7 ans    350            0            île-de-france\n",
       "24116    0-2 ans    150            0            île-de-france\n",
       "24117    0-2 ans    125            0            île-de-france\n",
       "24118   8-15 ans    480            0       nouvelle-aquitaine\n",
       "\n",
       "[24119 rows x 4 columns]"
      ]
     },
     "execution_count": 2,
     "metadata": {},
     "output_type": "execute_result"
    }
   ],
   "source": [
    "# Del \n",
    "import pandas as pd\n",
    "\n",
    "data = pd.read_csv('../../datasets/ml_data.csv')\n",
    "\n",
    "# Drop unnecessary columns\n",
    "try:\n",
    "    data.drop(columns=['name', 'location', 'presentation', 'presentation', 'recommendations', 'city',\n",
    "                     'teletravail_preference', 'missions', 'profil', 'link', 'skills', 'creation_date', 'response_time',\n",
    "                     'response_rate', 'headline', 'profile_image', 'categories'], inplace=True)\n",
    "except: \n",
    "    print(\"Columns already dropped\")\n",
    "\n",
    "data = data[data['experience'] != '-']\n",
    "data = data[data['price'] != '0']\n",
    "data.drop(columns=[ 'categories'], inplace=True)\n",
    "\n",
    "Clean_csv = \"../../datasets/ml_data.csv\"\n",
    "data.to_csv(Clean_csv, index=False)\n",
    "data"
   ]
  },
  {
   "cell_type": "markdown",
   "metadata": {},
   "source": [
    "# Outlier Management (Price)"
   ]
  },
  {
   "cell_type": "code",
   "execution_count": 19,
   "metadata": {},
   "outputs": [
    {
     "data": {
      "text/plain": [
       "(0, 5000, 413.03851735146566, 249.98859906148846)"
      ]
     },
     "execution_count": 19,
     "metadata": {},
     "output_type": "execute_result"
    }
   ],
   "source": [
    "import pandas as pd\n",
    "\n",
    "data = pd.read_csv('../../datasets/ml_data.csv')\n",
    "\n",
    "# View statistics in the 'Price' column\n",
    "def view_price_statistics(x):\n",
    "    prix_minimum = data['price'].min()\n",
    "    prix_maximum = data['price'].max()\n",
    "    prix_moyen = data['price'].mean()\n",
    "    ecart_type = data['price'].std()\n",
    "\n",
    "    return prix_minimum, prix_maximum, prix_moyen, ecart_type\n",
    "\n",
    "view_price_statistics(data)\n"
   ]
  },
  {
   "cell_type": "markdown",
   "metadata": {},
   "source": [
    "# Why ?"
   ]
  },
  {
   "cell_type": "code",
   "execution_count": 20,
   "metadata": {},
   "outputs": [
    {
     "name": "stdout",
     "output_type": "stream",
     "text": [
      "             price  supermalter\n",
      "count  1202.000000  1202.000000\n",
      "mean   1094.453411     0.021631\n",
      "std     430.018459     0.145535\n",
      "min     844.000000     0.000000\n",
      "25%     900.000000     0.000000\n",
      "50%    1000.000000     0.000000\n",
      "75%    1150.000000     0.000000\n",
      "max    5000.000000     1.000000\n"
     ]
    }
   ],
   "source": [
    "# Set a threshold(95e percentile)\n",
    "threshold = data['price'].quantile(0.95)\n",
    "# Data > Set a threshold\n",
    "outliers = data[data['price'] > threshold]\n",
    "# Analyser ces données\n",
    "print(outliers.describe())"
   ]
  }
 ],
 "metadata": {
  "kernelspec": {
   "display_name": "pydel",
   "language": "python",
   "name": "python3"
  },
  "language_info": {
   "codemirror_mode": {
    "name": "ipython",
    "version": 3
   },
   "file_extension": ".py",
   "mimetype": "text/x-python",
   "name": "python",
   "nbconvert_exporter": "python",
   "pygments_lexer": "ipython3",
   "version": "3.12.0"
  }
 },
 "nbformat": 4,
 "nbformat_minor": 2
}
