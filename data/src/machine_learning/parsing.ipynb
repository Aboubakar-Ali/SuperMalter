{
 "cells": [
  {
   "cell_type": "markdown",
   "metadata": {},
   "source": [
    "# Learning model data(TJM)\n",
    "\n",
    "* Experience\n",
    "* Region\n",
    "* Category\n",
    "* SuperMalter\n",
    "* price"
   ]
  },
  {
   "cell_type": "markdown",
   "metadata": {},
   "source": [
    "# Final cleanup of the csv file for our LM"
   ]
  },
  {
   "cell_type": "code",
   "execution_count": 2,
   "metadata": {},
   "outputs": [],
   "source": [
    "import pandas as pd\n",
    "import ast\n",
    "\n",
    "\n",
    "# import the data\n",
    "df_cities = pd.read_csv('../../datasets/cities_list.csv')\n",
    "df_malt = pd.read_csv('../../datasets/malt_sample_data.csv')\n",
    "\n",
    "# Supprimer les lignes où la colonne 'name' est vide\n",
    "df_malt.dropna(subset=['name'], inplace=True)\n",
    "\n",
    "# Convert the string 'location' column to a dictionary and extract the city\n",
    "def extract_city(location_str):\n",
    "    try:\n",
    "        location_dict = ast.literal_eval(location_str)\n",
    "        city_country = location_dict.get('Localisation', '')\n",
    "        city = city_country.split(',')[0].strip()\n",
    "        return city\n",
    "    except:\n",
    "        return None\n",
    "\n",
    "df_malt['Ville'] = df_malt['location'].apply(extract_city)\n",
    "\n",
    "# Exact match to find the area\n",
    "def find_region_name(city):\n",
    "    if city is None:\n",
    "        return None\n",
    "    for index, row in df_cities.iterrows():\n",
    "        if pd.isna(row['label']):\n",
    "            continue\n",
    "        if city.lower() == row['label'].lower():\n",
    "            return row['region_name']\n",
    "    return None\n",
    "\n",
    "\n",
    "df_malt['Region_Name'] = df_malt['Ville'].apply(find_region_name)\n",
    "\n",
    "# Remove lines where 'Region_Name' is missing\n",
    "df_malt.dropna(subset=['Region_Name'], inplace=True)\n",
    "\n",
    "\n",
    "# Removing unnecessary columns\n",
    "columns_to_drop = ['name', 'location', 'presentation', 'recommendations', \n",
    "                   'teletravail_preference',  'Ville', 'competences', 'response_time',\n",
    "                     'response_rate', 'headline']\n",
    "df_malt = df_malt.drop(columns=columns_to_drop)\n",
    "\n",
    "# Cleaning up the 'price' column\n",
    "# df_malt['price'] = df_malt['price'].str.replace('€', '').str.replace('\\u202f', '').str.replace(r'\\D', '', regex=True).astype(int)\n",
    "\n",
    "\n",
    "\n",
    "# Replace the values in the 'supermalter' column\n",
    "df_malt['supermalter'] = df_malt['supermalter'].apply(lambda x: 1 if x == 'Supermalter' else 0)\n",
    "\n",
    "\n",
    "df_malt.to_csv('../../datasets/ml_sample_data.csv', index=False)\n",
    "\n"
   ]
  },
  {
   "cell_type": "markdown",
   "metadata": {},
   "source": [
    "# Visualisation\n"
   ]
  },
  {
   "cell_type": "code",
   "execution_count": 8,
   "metadata": {},
   "outputs": [],
   "source": [
    "import pandas as pd\n",
    "\n",
    "df_cities = pd.read_csv('../../datasets/ml_sample_data.csv')\n",
    "\n",
    "# Assurez-vous d'utiliser la colonne 'price' de df_cities si c'est la colonne voulue\n",
    "df_cities['price'] = df_cities['price'].str.replace('€', '').str.replace('\\u202f', '').str.replace('\\xa0', '').str.replace(r'\\D', '', regex=True)\n",
    "\n",
    "# Remplacer les chaînes vides par zéro et convertir en float (pour gérer les NaN)\n",
    "df_cities['price'] = df_cities['price'].replace('', '0').astype(float)\n",
    "\n",
    "# Convertir en entier après avoir remplacé les NaN par 0\n",
    "df_cities['price'] = df_cities['price'].fillna(0).astype(int)\n",
    "\n",
    "df_malt.to_csv('../../datasets/ml_sample_data.csv', index=False)"
   ]
  },
  {
   "cell_type": "code",
   "execution_count": null,
   "metadata": {},
   "outputs": [],
   "source": []
  }
 ],
 "metadata": {
  "kernelspec": {
   "display_name": "Python 3",
   "language": "python",
   "name": "python3"
  },
  "language_info": {
   "codemirror_mode": {
    "name": "ipython",
    "version": 3
   },
   "file_extension": ".py",
   "mimetype": "text/x-python",
   "name": "python",
   "nbconvert_exporter": "python",
   "pygments_lexer": "ipython3",
   "version": "3.12.0"
  }
 },
 "nbformat": 4,
 "nbformat_minor": 2
}
