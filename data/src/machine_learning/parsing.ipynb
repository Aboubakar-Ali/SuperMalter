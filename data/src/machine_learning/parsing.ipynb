{
 "cells": [
  {
   "cell_type": "markdown",
   "metadata": {},
   "source": [
    "# Learning model data(TJM)\n",
    "\n",
    "* Experience\n",
    "* Region\n",
    "* Category\n",
    "* SuperMalter\n",
    "* price"
   ]
  },
  {
   "cell_type": "markdown",
   "metadata": {},
   "source": [
    "# Final cleanup of the csv file for our LM"
   ]
  },
  {
   "cell_type": "code",
   "execution_count": 1,
   "metadata": {},
   "outputs": [
    {
     "name": "stderr",
     "output_type": "stream",
     "text": [
      "/tmp/ipykernel_16297/342108194.py:5: DtypeWarning: Columns (13) have mixed types. Specify dtype option on import or set low_memory=False.\n",
      "  df_malt = pd.read_csv('../../datasets/raw_malt_data.csv')\n"
     ]
    }
   ],
   "source": [
    "import pandas as pd\n",
    "\n",
    "# Import the data\n",
    "df_cities = pd.read_csv('../../datasets/cities_list.csv')\n",
    "df_malt = pd.read_csv('../../datasets/raw_malt_data.csv')\n",
    "\n",
    "# Drop rows with missing 'name' values\n",
    "df_malt.dropna(subset=['name'], inplace=True)\n",
    "\n",
    "# Convert 'location' column to a dictionary and extract the city\n",
    "def extract_city(location_str):\n",
    "    try:\n",
    "        city_country = ast.literal_eval(location_str)['Localisation'].split(',')[0].strip()\n",
    "        return city_country\n",
    "    except:\n",
    "        return None\n",
    "\n",
    "df_malt['city'] = df_malt['location'].apply(extract_city)\n",
    "\n",
    "# Match city to region name\n",
    "def find_region_name(city):\n",
    "    if not city: return None\n",
    "    for index, row in df_cities.iterrows():\n",
    "        if pd.isna(row['label']): continue\n",
    "        if city.lower() == row['label'].lower():\n",
    "            return row['region_name']\n",
    "    return None\n",
    "\n",
    "df_malt['region_name'] = df_malt['city'].apply(find_region_name)\n",
    "\n",
    "# Drop rows with missing 'region_name' values\n",
    "df_malt.dropna(subset=['region_name'], inplace=True)\n",
    "\n",
    "# Drop unnecessary columns\n",
    "df_malt.drop(columns=['name', 'location', 'presentation', 'recommendations',\n",
    "                     'teletravail_preference', 'city', 'competences', 'response_time',\n",
    "                     'response_rate', 'headline', 'profile_image'], inplace=True)\n",
    "\n",
    "# Clean up 'price' column\n",
    "# replace NaN with 0\n",
    "df_malt['price'] = df_malt['price'].str.replace('€', '').str.replace('\\u202f', '').str.replace(r'\\D', '', regex=True)\n",
    "\n",
    "# Convert 'supermalter' values to 0 or 1\n",
    "df_malt['supermalter'] = df_malt['supermalter'].apply(lambda x: 1 if x == 'Supermalter' else 0)\n",
    "\n",
    "# Save the processed data\n",
    "df_malt.to_csv('../../datasets/ml_sample_data.csv', index=False)\n"
   ]
  },
  {
   "cell_type": "markdown",
   "metadata": {},
   "source": [
    "# Visualisation\n"
   ]
  },
  {
   "cell_type": "code",
   "execution_count": 2,
   "metadata": {},
   "outputs": [],
   "source": [
    "import pandas as pd\n",
    "\n",
    "df_cities = pd.read_csv('../../datasets/ml_sample_data.csv')\n",
    "\n",
    "# Assurez-vous d'utiliser la colonne 'price' de df_cities si c'est la colonne voulue\n",
    "df_cities['price'] = df_cities['price'].str.replace('€', '').str.replace('\\u202f', '').str.replace('\\xa0', '').str.replace(r'\\D', '', regex=True)\n",
    "\n",
    "# Remplacer les chaînes vides par zéro et convertir en float (pour gérer les NaN)\n",
    "df_cities['price'] = df_cities['price'].replace('', '0').astype(float)\n",
    "\n",
    "# Convertir en entier après avoir remplacé les NaN par 0\n",
    "df_cities['price'] = df_cities['price'].fillna(0).astype(int)\n",
    "\n",
    "df_malt.to_csv('../../datasets/ml_sample_data.csv', index=False)"
   ]
  },
  {
   "cell_type": "code",
   "execution_count": null,
   "metadata": {},
   "outputs": [],
   "source": []
  }
 ],
 "metadata": {
  "kernelspec": {
   "display_name": "Python 3",
   "language": "python",
   "name": "python3"
  },
  "language_info": {
   "codemirror_mode": {
    "name": "ipython",
    "version": 3
   },
   "file_extension": ".py",
   "mimetype": "text/x-python",
   "name": "python",
   "nbconvert_exporter": "python",
   "pygments_lexer": "ipython3",
   "version": "3.11.6"
  }
 },
 "nbformat": 4,
 "nbformat_minor": 2
}
