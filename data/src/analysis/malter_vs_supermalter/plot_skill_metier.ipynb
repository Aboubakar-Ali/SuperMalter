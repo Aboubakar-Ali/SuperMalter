{
 "cells": [
  {
   "cell_type": "code",
   "execution_count": 2,
   "id": "717c78c1-0df3-46e1-954e-c3a515c6194f",
   "metadata": {},
   "outputs": [],
   "source": [
    "import pandas as pd\n",
    "import matplotlib.pyplot as plt\n",
    "import seaborn as sns\n",
    "from ast import literal_eval"
   ]
  },
  {
   "cell_type": "code",
   "execution_count": 9,
   "id": "bba63657-dbec-45e1-b462-7f1b96f25655",
   "metadata": {},
   "outputs": [
    {
     "name": "stdout",
     "output_type": "stream",
     "text": [
      "Catégorie: Graphiste, Top 5 compétences: [\"'\", ' ', 'e', 'i', 'o']\n",
      "Catégorie: Développeur Web Front-end, Top 5 compétences: [\"'\", ' ', ',', 'e', 't']\n",
      "Catégorie: Développeur Web Back-end, Top 5 compétences: [\"'\", ' ', ',', 'e', 't']\n",
      "Catégorie: Webdesigner, Top 5 compétences: [\"'\", ' ', 'e', 'i', ',']\n",
      "Catégorie: Rédacteur web, Top 5 compétences: [\"'\", ' ', 'e', 'i', 'n']\n",
      "Catégorie: Illustrateur, Top 5 compétences: [\"'\", ' ', 'e', 'i', 'o']\n",
      "Catégorie: Community Manager, Top 5 compétences: [\"'\", ' ', 'e', 'i', 'n']\n",
      "Catégorie: Photographe, Top 5 compétences: [\"'\", ' ', 'o', 'e', 'i']\n",
      "Catégorie: Consultant Communication, Top 5 compétences: [\"'\", ' ', 'e', 'i', 'n']\n",
      "Catégorie: Directeur artistique, Top 5 compétences: [\"'\", ' ', 'e', 'i', ',']\n"
     ]
    }
   ],
   "source": [
    "# Initialiser un dictionnaire pour stocker les compétences les plus utilisées pour chaque catégorie\n",
    "top_skills_by_category = {}\n",
    "\n",
    "# Boucle sur chaque catégorie\n",
    "for category in top_10_categories:\n",
    "    # Filtrer les lignes qui contiennent la catégorie actuelle\n",
    "    category_rows = df[df['categories'].apply(lambda x: category in x)]\n",
    "    \n",
    "    # Aplatir et extraire les compétences de chaque liste de compétences\n",
    "    all_skills = [skill for skills_list in category_rows['skills'] for skill in skills_list]\n",
    "    \n",
    "    # Compter le nombre d'occurrences de chaque compétence\n",
    "    skill_counts = pd.Series(all_skills).value_counts()\n",
    "    \n",
    "    # Sélectionner les 5 compétences les plus utilisées pour la catégorie actuelle\n",
    "    top_skills = skill_counts.head(5).index.tolist()\n",
    "    \n",
    "    # Stocker les compétences dans le dictionnaire\n",
    "    top_skills_by_category[category] = top_skills\n",
    "\n",
    "# Afficher les compétences les plus utilisées pour chaque catégorie\n",
    "for category, skills in top_skills_by_category.items():\n",
    "    print(f\"Catégorie: {category}, Top 5 compétences: {skills}\")\n"
   ]
  },
  {
   "cell_type": "code",
   "execution_count": null,
   "id": "881ca074-adff-4c76-b19c-0ef58422c323",
   "metadata": {},
   "outputs": [],
   "source": []
  },
  {
   "cell_type": "code",
   "execution_count": null,
   "id": "2ccef776-be88-4d0e-9f79-d9565ddf2017",
   "metadata": {},
   "outputs": [],
   "source": []
  }
 ],
 "metadata": {
  "kernelspec": {
   "display_name": "Python 3 (ipykernel)",
   "language": "python",
   "name": "python3"
  },
  "language_info": {
   "codemirror_mode": {
    "name": "ipython",
    "version": 3
   },
   "file_extension": ".py",
   "mimetype": "text/x-python",
   "name": "python",
   "nbconvert_exporter": "python",
   "pygments_lexer": "ipython3",
   "version": "3.10.9"
  }
 },
 "nbformat": 4,
 "nbformat_minor": 5
}
