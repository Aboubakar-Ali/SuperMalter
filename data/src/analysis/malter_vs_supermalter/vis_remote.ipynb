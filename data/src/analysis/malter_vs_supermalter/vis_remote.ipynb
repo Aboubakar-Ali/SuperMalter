{
 "cells": [
  {
   "cell_type": "markdown",
   "metadata": {},
   "source": [
    "### REMOTE WORK: DOES IT PAY OFF?"
   ]
  },
  {
   "cell_type": "markdown",
   "metadata": {},
   "source": [
    "compare tjm for remote work vs on site work"
   ]
  },
  {
   "cell_type": "code",
   "execution_count": null,
   "metadata": {},
   "outputs": [],
   "source": []
  },
  {
   "cell_type": "markdown",
   "metadata": {},
   "source": [
    "compare how much missions are remote vs on site (how big is the market for remote work ?)"
   ]
  },
  {
   "cell_type": "code",
   "execution_count": null,
   "metadata": {},
   "outputs": [],
   "source": []
  },
  {
   "cell_type": "markdown",
   "metadata": {},
   "source": [
    "compare experience level of remote workers vs non remote workers"
   ]
  },
  {
   "cell_type": "code",
   "execution_count": null,
   "metadata": {},
   "outputs": [],
   "source": []
  }
 ],
 "metadata": {
  "language_info": {
   "name": "python"
  }
 },
 "nbformat": 4,
 "nbformat_minor": 2
}
