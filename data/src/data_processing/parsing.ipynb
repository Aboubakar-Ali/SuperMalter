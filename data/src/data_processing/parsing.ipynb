{
 "cells": [
  {
   "cell_type": "code",
   "execution_count": 132,
   "metadata": {},
   "outputs": [],
   "source": [
    "import pandas as pd\n",
    "import numpy as np\n",
    "# import matplotlib.pyplot as plt\n",
    "\n",
    "file_malt_csv = \"../datasets/malt_sample_data.csv\"\n",
    "# file_malt_csv_names = \"./script_scrapping_malt/Data/analyse_names.csv\"\n",
    "# file_csv = './script_scrapping_malt/Data/clean_malt.csv'\n",
    "\n",
    "df = pd.read_csv(file_malt_csv)\n",
    "# df = pd.read_csv(file_malt_csv_names)\n",
    "# df = pd.read_csv(file_csv)"
   ]
  },
  {
   "cell_type": "code",
   "execution_count": 133,
   "metadata": {},
   "outputs": [],
   "source": [
    "# # Supermalter\n",
    "df['supermalter'] = df['supermalter'].str.contains('Supermalter').replace(np.nan,'0')\n",
    "df['supermalter'] = df['supermalter'].astype(int)"
   ]
  },
  {
   "cell_type": "code",
   "execution_count": 134,
   "metadata": {},
   "outputs": [],
   "source": [
    "# Column Recommandations\n",
    "df['recommendations'] = df['recommendations'].fillna(0).astype(int)"
   ]
  },
  {
   "cell_type": "code",
   "execution_count": 135,
   "metadata": {},
   "outputs": [],
   "source": [
    "# Teletavail\n",
    "df['teletravail_preference'] = np.where(df['teletravail_preference'].str.contains('Télétravail'), 1,\n",
    "np.where(df['teletravail_preference'].str.contains('Peut travailler dans vos locaux à'), 0, np.nan))\n",
    "df['teletravail_preference'] = df['teletravail_preference'].fillna(0).astype(int)"
   ]
  },
  {
   "cell_type": "code",
   "execution_count": 136,
   "metadata": {},
   "outputs": [],
   "source": [
    "# column \"competences\" to \"skills\"\n",
    "df.rename(columns={'competences': 'skills'}, inplace=True)"
   ]
  },
  {
   "cell_type": "code",
   "execution_count": 137,
   "metadata": {},
   "outputs": [],
   "source": [
    "# # column \"responce_rate\" to float\n",
    "df['response_rate'] = df['response_rate'].str.replace('%', '', regex=False)\n",
    "df['response_rate'] = df['response_rate'].astype(float)\n",
    "df['response_rate'] = df['response_rate'] / 100"
   ]
  },
  {
   "cell_type": "code",
   "execution_count": 138,
   "metadata": {},
   "outputs": [],
   "source": [
    "# column \"price\" to int\n",
    "df['price'] = df['price'].str.replace('€', '')\n",
    "df['price'] = df['price'].str.replace(r'\\D', '', regex=True)\n",
    "df['price'] = df['price'].astype('int32')"
   ]
  },
  {
   "cell_type": "code",
   "execution_count": 139,
   "metadata": {},
   "outputs": [],
   "source": [
    "df['missions'] = df['missions'].str.replace(r'\\D', '', regex=True)\n",
    "df['missions'] = df['missions'].astype(int)"
   ]
  },
  {
   "cell_type": "code",
   "execution_count": 140,
   "metadata": {},
   "outputs": [],
   "source": [
    "# Fonction qui anonymise les noms en utilisant les informations de genre\n",
    "# def anonymize_names(df, file_malt_csv_names, file_malt_csv):\n",
    "#     try:\n",
    "#         # Charger les fichiers CSV s'ils existent\n",
    "#         df_names = pd.read_csv(file_malt_csv_names)\n",
    "#         df_gender = pd.read_csv(file_malt_csv)\n",
    "        \n",
    "#         # Créer un dictionnaire de correspondance des noms avec leur genre\n",
    "#         name_gender_dict = dict(zip(df_names['Name'], df_gender['Gender']))\n",
    "        \n",
    "#         # Appliquer la correspondance des genres aux noms dans le DataFrame\n",
    "#         df['Gender'] = df['Name'].map(name_gender_dict)\n",
    "        \n",
    "#         # Afficher le DataFrame avec la nouvelle colonne 'Gender' contenant les genres anonymisés\n",
    "#         print(df)\n",
    "    \n",
    "#     except FileNotFoundError:\n",
    "#         # Si l'un des fichiers CSV n'existe pas, créer un nouveau fichier pour les noms et les genres\n",
    "#         # Vous pouvez remplacer ces données par les noms et les genres réels que vous souhaitez inclure\n",
    "#         new_names_data = {'Name': ['John', 'Alice', 'Bob'],\n",
    "#                           'Gender': ['Men', 'Women', 'Men']}\n",
    "        \n",
    "#         # Créer un DataFrame à partir des nouvelles données\n",
    "#         new_df_names = pd.DataFrame(new_names_data)\n",
    "        \n",
    "#         # Enregistrer le DataFrame dans un fichier CSV\n",
    "#         new_df_names.to_csv(file_malt_csv_names, index=False)\n",
    "        \n",
    "#         # Utiliser des genres par défaut pour créer un fichier de genres si nécessaire\n",
    "#         # Assurez-vous d'adapter ces données selon vos besoins\n",
    "#         new_gender_data = {'Gender': ['Men', 'Women']}\n",
    "#         new_df_gender = pd.DataFrame(new_gender_data)\n",
    "        \n",
    "#         # Enregistrer le DataFrame dans un fichier CSV\n",
    "#         new_df_gender.to_csv(file_malt_csv, index=False)\n",
    "\n",
    "#         print(\"Fichiers CSV créés avec des données par défaut. Veuillez les personnaliser avec vos données réelles.\")\n",
    "\n",
    "# # Appeler la fonction pour anonymiser les noms en utilisant les informations de genre\n",
    "# anonymize_names(df, file_malt_csv_names, file_malt_csv)²"
   ]
  },
  {
   "cell_type": "code",
   "execution_count": 141,
   "metadata": {},
   "outputs": [
    {
     "name": "stdout",
     "output_type": "stream",
     "text": [
      "               name                                           headline  price  \\\n",
      "0    Cécile Kleszcz     traductrice diplômée allemand anglais français    250   \n",
      "1   Patrick Javelle                          Emailing, bannières HTML5    400   \n",
      "2    Aurélie Poupée  Concepteur Rédacteur / Copywriter / Rédacteur web    260   \n",
      "3  Sandrine Pollien                    Rédactrice web seo / Copywriter    250   \n",
      "4         Audrey B.        Sous-titrage, Monteuse vidéo, Transcription    260   \n",
      "\n",
      "    experience  response_rate response_time  missions  \\\n",
      "0     8-15 ans            1.0            1h      1158   \n",
      "1  15 ans et +            1.0            1h       351   \n",
      "2     8-15 ans            1.0            1h      1085   \n",
      "3      3-7 ans            1.0           24h       265   \n",
      "4      3-7 ans            1.0            1h       148   \n",
      "\n",
      "                                          categories  \\\n",
      "0                    ['Rédacteur web', 'Traducteur']   \n",
      "1  ['Développeur CMS', 'Développeur Web Front-end...   \n",
      "2  ['Concepteur Rédacteur', 'Pigiste', 'Rédacteur...   \n",
      "3  ['Concepteur Rédacteur', 'Pigiste', 'Rédacteur...   \n",
      "4               ['Monteur vidéo', 'Motion Designer']   \n",
      "\n",
      "                                              skills  supermalter  \\\n",
      "0  ['Traduction Français Anglais', 'Traduction Fr...            1   \n",
      "1  ['Emailing', 'Intégration Emailing', 'Bannière...            1   \n",
      "2  ['Conception rédaction', 'Copywriting', 'Rédac...            1   \n",
      "3  ['Rédaction web', 'Copywriting', 'Landing page...            1   \n",
      "4  ['Sous-titrage', 'Montage vidéo', 'Adobe Premi...            0   \n",
      "\n",
      "                            location  \\\n",
      "0  {'Localisation': 'Paris, France'}   \n",
      "1  {'Localisation': 'Paris, France'}   \n",
      "2  {'Localisation': 'Paris, France'}   \n",
      "3  {'Localisation': 'Paris, France'}   \n",
      "4  {'Localisation': 'Paris, France'}   \n",
      "\n",
      "                                        presentation  recommendations  \\\n",
      "0  Je suis diplômée Master II de l'ISTI en traduc...                5   \n",
      "1  Intégrateur emailing avec 15 ans d’expérience ...               25   \n",
      "2  👩🏼‍💻Diplômée en journalisme, j'ai choisi le mé...               27   \n",
      "3  👍🏻 Rédactrice web depuis maintenant 5 ans et d...               21   \n",
      "4  ▪︎ Montage vidéo— Je vous propose également me...                3   \n",
      "\n",
      "   teletravail_preference  \n",
      "0                       1  \n",
      "1                       1  \n",
      "2                       1  \n",
      "3                       1  \n",
      "4                       1  \n"
     ]
    }
   ],
   "source": [
    "print(df.head())\n",
    "\n",
    "Clean_csv = \"../data/pars_sample.csv\"\n",
    "\n",
    "df.to_csv(Clean_csv, index=False)"
   ]
  }
 ],
 "metadata": {
  "kernelspec": {
   "display_name": "Python 3",
   "language": "python",
   "name": "python3"
  },
  "language_info": {
   "codemirror_mode": {
    "name": "ipython",
    "version": 3
   },
   "file_extension": ".py",
   "mimetype": "text/x-python",
   "name": "python",
   "nbconvert_exporter": "python",
   "pygments_lexer": "ipython3",
   "version": "3.12.0"
  }
 },
 "nbformat": 4,
 "nbformat_minor": 2
}
