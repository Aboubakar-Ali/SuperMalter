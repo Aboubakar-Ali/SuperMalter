{
 "cells": [
  {
   "cell_type": "code",
   "execution_count": 6,
   "metadata": {},
   "outputs": [
    {
     "name": "stderr",
     "output_type": "stream",
     "text": [
      "/tmp/ipykernel_13702/1339886903.py:9: DtypeWarning: Columns (13) have mixed types. Specify dtype option on import or set low_memory=False.\n",
      "  df = pd.read_csv(file_malt_csv)\n"
     ]
    }
   ],
   "source": [
    "import pandas as pd\n",
    "import numpy as np\n",
    "# import matplotlib.pyplot as plt\n",
    "\n",
    "file_malt_csv = \"../../datasets/malt_data_scrapped.csv\"\n",
    "# file_malt_csv_names = \"./script_scrapping_malt/Data/analyse_names.csv\"\n",
    "# file_csv = './script_scrapping_malt/Data/clean_malt.csv'\n",
    "\n",
    "df = pd.read_csv(file_malt_csv)\n",
    "# df = pd.read_csv(file_malt_csv_names)\n",
    "# df = pd.read_csv(file_csv)"
   ]
  },
  {
   "cell_type": "code",
   "execution_count": 7,
   "metadata": {},
   "outputs": [],
   "source": [
    "# # Supermalter\n",
    "df['supermalter'] = df['supermalter'].str.contains('Supermalter').replace(np.nan,'0')\n",
    "df['supermalter'] = df['supermalter'].astype(int)"
   ]
  },
  {
   "cell_type": "code",
   "execution_count": 8,
   "metadata": {},
   "outputs": [],
   "source": [
    "# Column Recommandations\n",
    "df['recommendations'] = df['recommendations'].fillna(0).astype(int)"
   ]
  },
  {
   "cell_type": "code",
   "execution_count": 9,
   "metadata": {},
   "outputs": [],
   "source": [
    "# Teletavail Preference\n",
    "df['teletravail_preference'] = np.where(df['teletravail_preference'].astype(str).str.contains('Télétravail'), 1,\n",
    "np.where(df['teletravail_preference'].astype(str).str.contains('Peut travailler dans vos locaux à'), 0, np.nan))\n",
    "df['teletravail_preference'] = df['teletravail_preference'].fillna(0).astype(int)"
   ]
  },
  {
   "cell_type": "code",
   "execution_count": 10,
   "metadata": {},
   "outputs": [],
   "source": [
    "# column \"competences\" to \"skills\"\n",
    "df.rename(columns={'competences': 'skills'}, inplace=True)"
   ]
  },
  {
   "cell_type": "code",
   "execution_count": 11,
   "metadata": {},
   "outputs": [],
   "source": [
    "# # column \"responce_rate\" to float\n",
    "df['response_rate'] = df['response_rate'].str.replace('%', '', regex=False)\n",
    "df['response_rate'] = df['response_rate'].astype(float)\n",
    "df['response_rate'] = df['response_rate'] / 100"
   ]
  },
  {
   "cell_type": "code",
   "execution_count": 13,
   "metadata": {},
   "outputs": [],
   "source": [
    "# column \"price\" to int\n",
    "df['price'] = df['price'].str.replace('€', '')\n",
    "df['price'] = df['price'].str.replace(r'\\D', '', regex=True)\n",
    "df['price'] = df['price'].fillna(0).astype('int32')\n"
   ]
  },
  {
   "cell_type": "code",
   "execution_count": 15,
   "metadata": {},
   "outputs": [],
   "source": [
    "df['missions'] = df['missions'].fillna(0).astype(int)\n"
   ]
  },
  {
   "cell_type": "code",
   "execution_count": 16,
   "metadata": {},
   "outputs": [],
   "source": [
    "# Fonction qui anonymise les noms en utilisant les informations de genre\n",
    "# def anonymize_names(df, file_malt_csv_names, file_malt_csv):\n",
    "#     try:\n",
    "#         # Charger les fichiers CSV s'ils existent\n",
    "#         df_names = pd.read_csv(file_malt_csv_names)\n",
    "#         df_gender = pd.read_csv(file_malt_csv)\n",
    "        \n",
    "#         # Créer un dictionnaire de correspondance des noms avec leur genre\n",
    "#         name_gender_dict = dict(zip(df_names['Name'], df_gender['Gender']))\n",
    "        \n",
    "#         # Appliquer la correspondance des genres aux noms dans le DataFrame\n",
    "#         df['Gender'] = df['Name'].map(name_gender_dict)\n",
    "        \n",
    "#         # Afficher le DataFrame avec la nouvelle colonne 'Gender' contenant les genres anonymisés\n",
    "#         print(df)\n",
    "    \n",
    "#     except FileNotFoundError:\n",
    "#         # Si l'un des fichiers CSV n'existe pas, créer un nouveau fichier pour les noms et les genres\n",
    "#         # Vous pouvez remplacer ces données par les noms et les genres réels que vous souhaitez inclure\n",
    "#         new_names_data = {'Name': ['John', 'Alice', 'Bob'],\n",
    "#                           'Gender': ['Men', 'Women', 'Men']}\n",
    "        \n",
    "#         # Créer un DataFrame à partir des nouvelles données\n",
    "#         new_df_names = pd.DataFrame(new_names_data)\n",
    "        \n",
    "#         # Enregistrer le DataFrame dans un fichier CSV\n",
    "#         new_df_names.to_csv(file_malt_csv_names, index=False)\n",
    "        \n",
    "#         # Utiliser des genres par défaut pour créer un fichier de genres si nécessaire\n",
    "#         # Assurez-vous d'adapter ces données selon vos besoins\n",
    "#         new_gender_data = {'Gender': ['Men', 'Women']}\n",
    "#         new_df_gender = pd.DataFrame(new_gender_data)\n",
    "        \n",
    "#         # Enregistrer le DataFrame dans un fichier CSV\n",
    "#         new_df_gender.to_csv(file_malt_csv, index=False)\n",
    "\n",
    "#         print(\"Fichiers CSV créés avec des données par défaut. Veuillez les personnaliser avec vos données réelles.\")\n",
    "\n",
    "# # Appeler la fonction pour anonymiser les noms en utilisant les informations de genre\n",
    "# anonymize_names(df, file_malt_csv_names, file_malt_csv)²"
   ]
  },
  {
   "cell_type": "code",
   "execution_count": null,
   "metadata": {},
   "outputs": [],
   "source": [
    "# remove ans in experience column\n",
    "\n",
    "df['experience'] = df['experience'].str.replace('ans', '')\n",
    "df['experience'] = df['experience'].str.replace(' ', '')"
   ]
  },
  {
   "cell_type": "code",
   "execution_count": 17,
   "metadata": {},
   "outputs": [
    {
     "name": "stdout",
     "output_type": "stream",
     "text": [
      "             name                                      profile_image  \\\n",
      "0      Mickael M.  https://dam.malt.com/ecrimpl92gqieb0ijvjo?grav...   \n",
      "1    Nacera  TIZI  https://dam.malt.com/erokb7omnnhmf79bojnr?grav...   \n",
      "2     Aurélien D.  https://dam.malt.com/vabndz3c9dkhsimtvgww?grav...   \n",
      "3  Youri Galescot  https://dam.malt.com/r3nb6gaf6723bi1unhhx?grav...   \n",
      "4  Julien Trezeux  https://dam.malt.com/pllhwpaapz84yfqmc7rw?grav...   \n",
      "\n",
      "                                          headline experience  price  \\\n",
      "0                                        Graphiste          -    250   \n",
      "1                            Commerciale Freelance          -     40   \n",
      "2                SysOps, DevOps et développeur web   8-15 ans    550   \n",
      "3              Développeur web frontend et backend          -    235   \n",
      "4  directeur artistique - graphiste - illustrateur   8-15 ans    350   \n",
      "\n",
      "   response_rate   response_time  \\\n",
      "0           1.00  Quelques jours   \n",
      "1            NaN              1h   \n",
      "2           1.00              1h   \n",
      "3           0.33             12h   \n",
      "4           1.00              1h   \n",
      "\n",
      "                                          categories  \\\n",
      "0                                      ['Graphiste']   \n",
      "1                            ['Business developers']   \n",
      "2  ['Administrateur base de données', 'Administra...   \n",
      "3                                                 []   \n",
      "4       ['Photographe', 'Graphiste', 'Illustrateur']   \n",
      "\n",
      "                                              skills  supermalter  \\\n",
      "0  ['Wordpress', 'Design logo', 'Affiche', 'Carte...            0   \n",
      "1                        ['Tanger et tout le Maroc']            0   \n",
      "2  ['Linux', 'Ansible', 'PHP', 'Apache', 'Proxmox...            0   \n",
      "3  ['PHP', 'HTML5', 'CSS3', 'SEO', 'jQuery', 'Res...            0   \n",
      "4  ['Direction artistique', 'Graphisme', 'Design ...            0   \n",
      "\n",
      "                                            location  \\\n",
      "0            {'Localisation': '21000 Dijon, France'}   \n",
      "1  {'Localisation': 'Tanger, Tanger-Tétouan, Maroc'}   \n",
      "2            {'Localisation': 'La Rochelle, France'}   \n",
      "3                  {'Localisation': 'Paris, France'}   \n",
      "4  {'Localisation': 'Paris, France / www.graphicf...   \n",
      "\n",
      "                                        presentation  recommendations  \\\n",
      "0  Passionné depuis mon enfance par le graphisme,...                0   \n",
      "1  Parce que La ville de Tanger tend à devenir l'...                0   \n",
      "2  SysOps (unix) depuis 5 ans et DevOps depuis 4 ...                1   \n",
      "3  Bonjour,Je suis développeur frontend et backen...                0   \n",
      "4  Graphiste et directeur artistique depuis 2007,...                3   \n",
      "\n",
      "   missions  teletravail_preference         profil  \\\n",
      "0         0                       0  mickaelmolina   \n",
      "1         0                       0     naceratizi   \n",
      "2        12                       0   aureliendazy   \n",
      "3         0                       0  yourigalescot   \n",
      "4         0                       0  julientrezeux   \n",
      "\n",
      "                                        link creation_date  \n",
      "0  https://www.malt.fr/profile/mickaelmolina    2013-08-02  \n",
      "1     https://www.malt.fr/profile/naceratizi    2014-02-22  \n",
      "2   https://www.malt.fr/profile/aureliendazy    2013-06-06  \n",
      "3  https://www.malt.fr/profile/yourigalescot    2014-02-18  \n",
      "4  https://www.malt.fr/profile/julientrezeux    2014-02-12  \n"
     ]
    }
   ],
   "source": [
    "print(df.head())\n",
    "\n",
    "Clean_csv = \"../../datasets/parsed_malt_data.csv\"\n",
    "\n",
    "df.to_csv(Clean_csv, index=False)"
   ]
  }
 ],
 "metadata": {
  "kernelspec": {
   "display_name": "Python 3",
   "language": "python",
   "name": "python3"
  },
  "language_info": {
   "codemirror_mode": {
    "name": "ipython",
    "version": 3
   },
   "file_extension": ".py",
   "mimetype": "text/x-python",
   "name": "python",
   "nbconvert_exporter": "python",
   "pygments_lexer": "ipython3",
   "version": "3.11.6"
  }
 },
 "nbformat": 4,
 "nbformat_minor": 2
}
