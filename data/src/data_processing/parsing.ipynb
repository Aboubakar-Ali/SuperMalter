{
 "cells": [
  {
   "cell_type": "code",
   "execution_count": 1,
   "metadata": {},
   "outputs": [
    {
     "name": "stderr",
     "output_type": "stream",
     "text": [
      "/tmp/ipykernel_9128/1339886903.py:9: DtypeWarning: Columns (13) have mixed types. Specify dtype option on import or set low_memory=False.\n",
      "  df = pd.read_csv(file_malt_csv)\n"
     ]
    }
   ],
   "source": [
    "import pandas as pd\n",
    "import numpy as np\n",
    "# import matplotlib.pyplot as plt\n",
    "\n",
    "file_malt_csv = \"../../datasets/malt_data_scrapped.csv\"\n",
    "# file_malt_csv_names = \"./script_scrapping_malt/Data/analyse_names.csv\"\n",
    "# file_csv = './script_scrapping_malt/Data/clean_malt.csv'\n",
    "\n",
    "df = pd.read_csv(file_malt_csv)\n",
    "# df = pd.read_csv(file_malt_csv_names)\n",
    "# df = pd.read_csv(file_csv)"
   ]
  },
  {
   "cell_type": "code",
   "execution_count": 2,
   "metadata": {},
   "outputs": [],
   "source": [
    "# # Supermalter\n",
    "df['supermalter'] = df['supermalter'].str.contains('Supermalter').replace(np.nan,'0')\n",
    "df['supermalter'] = df['supermalter'].astype(int)"
   ]
  },
  {
   "cell_type": "code",
   "execution_count": 3,
   "metadata": {},
   "outputs": [],
   "source": [
    "# Column Recommandations\n",
    "df['recommendations'] = df['recommendations'].fillna(0).astype(int)"
   ]
  },
  {
   "cell_type": "code",
   "execution_count": 4,
   "metadata": {},
   "outputs": [
    {
     "ename": "AttributeError",
     "evalue": "Can only use .str accessor with string values!",
     "output_type": "error",
     "traceback": [
      "\u001b[0;31m---------------------------------------------------------------------------\u001b[0m",
      "\u001b[0;31mAttributeError\u001b[0m                            Traceback (most recent call last)",
      "\u001b[1;32m/home/lux/Documents/SuperMalter/data/src/data_processing/parsing.ipynb Cell 4\u001b[0m line \u001b[0;36m2\n\u001b[1;32m      <a href='vscode-notebook-cell:/home/lux/Documents/SuperMalter/data/src/data_processing/parsing.ipynb#W3sZmlsZQ%3D%3D?line=0'>1</a>\u001b[0m \u001b[39m# Teletavail\u001b[39;00m\n\u001b[0;32m----> <a href='vscode-notebook-cell:/home/lux/Documents/SuperMalter/data/src/data_processing/parsing.ipynb#W3sZmlsZQ%3D%3D?line=1'>2</a>\u001b[0m df[\u001b[39m'\u001b[39m\u001b[39mteletravail_preference\u001b[39m\u001b[39m'\u001b[39m] \u001b[39m=\u001b[39m np\u001b[39m.\u001b[39mwhere(df[\u001b[39m'\u001b[39;49m\u001b[39mteletravail_preference\u001b[39;49m\u001b[39m'\u001b[39;49m]\u001b[39m.\u001b[39;49mstr\u001b[39m.\u001b[39mcontains(\u001b[39m'\u001b[39m\u001b[39mTélétravail\u001b[39m\u001b[39m'\u001b[39m), \u001b[39m1\u001b[39m,\n\u001b[1;32m      <a href='vscode-notebook-cell:/home/lux/Documents/SuperMalter/data/src/data_processing/parsing.ipynb#W3sZmlsZQ%3D%3D?line=2'>3</a>\u001b[0m np\u001b[39m.\u001b[39mwhere(df[\u001b[39m'\u001b[39m\u001b[39mteletravail_preference\u001b[39m\u001b[39m'\u001b[39m]\u001b[39m.\u001b[39mstr\u001b[39m.\u001b[39mcontains(\u001b[39m'\u001b[39m\u001b[39mPeut travailler dans vos locaux à\u001b[39m\u001b[39m'\u001b[39m), \u001b[39m0\u001b[39m, np\u001b[39m.\u001b[39mnan))\n\u001b[1;32m      <a href='vscode-notebook-cell:/home/lux/Documents/SuperMalter/data/src/data_processing/parsing.ipynb#W3sZmlsZQ%3D%3D?line=3'>4</a>\u001b[0m df[\u001b[39m'\u001b[39m\u001b[39mteletravail_preference\u001b[39m\u001b[39m'\u001b[39m] \u001b[39m=\u001b[39m df[\u001b[39m'\u001b[39m\u001b[39mteletravail_preference\u001b[39m\u001b[39m'\u001b[39m]\u001b[39m.\u001b[39mfillna(\u001b[39m0\u001b[39m)\u001b[39m.\u001b[39mastype(\u001b[39mint\u001b[39m)\n",
      "File \u001b[0;32m~/Documents/SuperMalter/.venv/lib/python3.11/site-packages/pandas/core/generic.py:6204\u001b[0m, in \u001b[0;36mNDFrame.__getattr__\u001b[0;34m(self, name)\u001b[0m\n\u001b[1;32m   6197\u001b[0m \u001b[39mif\u001b[39;00m (\n\u001b[1;32m   6198\u001b[0m     name \u001b[39mnot\u001b[39;00m \u001b[39min\u001b[39;00m \u001b[39mself\u001b[39m\u001b[39m.\u001b[39m_internal_names_set\n\u001b[1;32m   6199\u001b[0m     \u001b[39mand\u001b[39;00m name \u001b[39mnot\u001b[39;00m \u001b[39min\u001b[39;00m \u001b[39mself\u001b[39m\u001b[39m.\u001b[39m_metadata\n\u001b[1;32m   6200\u001b[0m     \u001b[39mand\u001b[39;00m name \u001b[39mnot\u001b[39;00m \u001b[39min\u001b[39;00m \u001b[39mself\u001b[39m\u001b[39m.\u001b[39m_accessors\n\u001b[1;32m   6201\u001b[0m     \u001b[39mand\u001b[39;00m \u001b[39mself\u001b[39m\u001b[39m.\u001b[39m_info_axis\u001b[39m.\u001b[39m_can_hold_identifiers_and_holds_name(name)\n\u001b[1;32m   6202\u001b[0m ):\n\u001b[1;32m   6203\u001b[0m     \u001b[39mreturn\u001b[39;00m \u001b[39mself\u001b[39m[name]\n\u001b[0;32m-> 6204\u001b[0m \u001b[39mreturn\u001b[39;00m \u001b[39mobject\u001b[39;49m\u001b[39m.\u001b[39;49m\u001b[39m__getattribute__\u001b[39;49m(\u001b[39mself\u001b[39;49m, name)\n",
      "File \u001b[0;32m~/Documents/SuperMalter/.venv/lib/python3.11/site-packages/pandas/core/accessor.py:224\u001b[0m, in \u001b[0;36mCachedAccessor.__get__\u001b[0;34m(self, obj, cls)\u001b[0m\n\u001b[1;32m    221\u001b[0m \u001b[39mif\u001b[39;00m obj \u001b[39mis\u001b[39;00m \u001b[39mNone\u001b[39;00m:\n\u001b[1;32m    222\u001b[0m     \u001b[39m# we're accessing the attribute of the class, i.e., Dataset.geo\u001b[39;00m\n\u001b[1;32m    223\u001b[0m     \u001b[39mreturn\u001b[39;00m \u001b[39mself\u001b[39m\u001b[39m.\u001b[39m_accessor\n\u001b[0;32m--> 224\u001b[0m accessor_obj \u001b[39m=\u001b[39m \u001b[39mself\u001b[39;49m\u001b[39m.\u001b[39;49m_accessor(obj)\n\u001b[1;32m    225\u001b[0m \u001b[39m# Replace the property with the accessor object. Inspired by:\u001b[39;00m\n\u001b[1;32m    226\u001b[0m \u001b[39m# https://www.pydanny.com/cached-property.html\u001b[39;00m\n\u001b[1;32m    227\u001b[0m \u001b[39m# We need to use object.__setattr__ because we overwrite __setattr__ on\u001b[39;00m\n\u001b[1;32m    228\u001b[0m \u001b[39m# NDFrame\u001b[39;00m\n\u001b[1;32m    229\u001b[0m \u001b[39mobject\u001b[39m\u001b[39m.\u001b[39m\u001b[39m__setattr__\u001b[39m(obj, \u001b[39mself\u001b[39m\u001b[39m.\u001b[39m_name, accessor_obj)\n",
      "File \u001b[0;32m~/Documents/SuperMalter/.venv/lib/python3.11/site-packages/pandas/core/strings/accessor.py:190\u001b[0m, in \u001b[0;36mStringMethods.__init__\u001b[0;34m(self, data)\u001b[0m\n\u001b[1;32m    187\u001b[0m \u001b[39mdef\u001b[39;00m \u001b[39m__init__\u001b[39m(\u001b[39mself\u001b[39m, data) \u001b[39m-\u001b[39m\u001b[39m>\u001b[39m \u001b[39mNone\u001b[39;00m:\n\u001b[1;32m    188\u001b[0m     \u001b[39mfrom\u001b[39;00m \u001b[39mpandas\u001b[39;00m\u001b[39m.\u001b[39;00m\u001b[39mcore\u001b[39;00m\u001b[39m.\u001b[39;00m\u001b[39marrays\u001b[39;00m\u001b[39m.\u001b[39;00m\u001b[39mstring_\u001b[39;00m \u001b[39mimport\u001b[39;00m StringDtype\n\u001b[0;32m--> 190\u001b[0m     \u001b[39mself\u001b[39m\u001b[39m.\u001b[39m_inferred_dtype \u001b[39m=\u001b[39m \u001b[39mself\u001b[39;49m\u001b[39m.\u001b[39;49m_validate(data)\n\u001b[1;32m    191\u001b[0m     \u001b[39mself\u001b[39m\u001b[39m.\u001b[39m_is_categorical \u001b[39m=\u001b[39m \u001b[39misinstance\u001b[39m(data\u001b[39m.\u001b[39mdtype, CategoricalDtype)\n\u001b[1;32m    192\u001b[0m     \u001b[39mself\u001b[39m\u001b[39m.\u001b[39m_is_string \u001b[39m=\u001b[39m \u001b[39misinstance\u001b[39m(data\u001b[39m.\u001b[39mdtype, StringDtype)\n",
      "File \u001b[0;32m~/Documents/SuperMalter/.venv/lib/python3.11/site-packages/pandas/core/strings/accessor.py:244\u001b[0m, in \u001b[0;36mStringMethods._validate\u001b[0;34m(data)\u001b[0m\n\u001b[1;32m    241\u001b[0m inferred_dtype \u001b[39m=\u001b[39m lib\u001b[39m.\u001b[39minfer_dtype(values, skipna\u001b[39m=\u001b[39m\u001b[39mTrue\u001b[39;00m)\n\u001b[1;32m    243\u001b[0m \u001b[39mif\u001b[39;00m inferred_dtype \u001b[39mnot\u001b[39;00m \u001b[39min\u001b[39;00m allowed_types:\n\u001b[0;32m--> 244\u001b[0m     \u001b[39mraise\u001b[39;00m \u001b[39mAttributeError\u001b[39;00m(\u001b[39m\"\u001b[39m\u001b[39mCan only use .str accessor with string values!\u001b[39m\u001b[39m\"\u001b[39m)\n\u001b[1;32m    245\u001b[0m \u001b[39mreturn\u001b[39;00m inferred_dtype\n",
      "\u001b[0;31mAttributeError\u001b[0m: Can only use .str accessor with string values!"
     ]
    }
   ],
   "source": [
    "# Teletavail\n",
    "df['teletravail_preference'] = np.where(df['teletravail_preference'].str.contains('Télétravail'), 1,\n",
    "np.where(df['teletravail_preference'].str.contains('Peut travailler dans vos locaux à'), 0, np.nan))\n",
    "df['teletravail_preference'] = df['teletravail_preference'].fillna(0).astype(int)"
   ]
  },
  {
   "cell_type": "code",
   "execution_count": null,
   "metadata": {},
   "outputs": [],
   "source": [
    "# column \"competences\" to \"skills\"\n",
    "df.rename(columns={'competences': 'skills'}, inplace=True)"
   ]
  },
  {
   "cell_type": "code",
   "execution_count": null,
   "metadata": {},
   "outputs": [],
   "source": [
    "# # column \"responce_rate\" to float\n",
    "df['response_rate'] = df['response_rate'].str.replace('%', '', regex=False)\n",
    "df['response_rate'] = df['response_rate'].astype(float)\n",
    "df['response_rate'] = df['response_rate'] / 100"
   ]
  },
  {
   "cell_type": "code",
   "execution_count": null,
   "metadata": {},
   "outputs": [],
   "source": [
    "# column \"price\" to int\n",
    "df['price'] = df['price'].str.replace('€', '')\n",
    "df['price'] = df['price'].str.replace(r'\\D', '', regex=True)\n",
    "df['price'] = df['price'].astype('int32')"
   ]
  },
  {
   "cell_type": "code",
   "execution_count": null,
   "metadata": {},
   "outputs": [],
   "source": [
    "df['missions'] = df['missions'].str.replace(r'\\D', '', regex=True)\n",
    "df['missions'] = df['missions'].astype(int)"
   ]
  },
  {
   "cell_type": "code",
   "execution_count": null,
   "metadata": {},
   "outputs": [],
   "source": [
    "# Fonction qui anonymise les noms en utilisant les informations de genre\n",
    "# def anonymize_names(df, file_malt_csv_names, file_malt_csv):\n",
    "#     try:\n",
    "#         # Charger les fichiers CSV s'ils existent\n",
    "#         df_names = pd.read_csv(file_malt_csv_names)\n",
    "#         df_gender = pd.read_csv(file_malt_csv)\n",
    "        \n",
    "#         # Créer un dictionnaire de correspondance des noms avec leur genre\n",
    "#         name_gender_dict = dict(zip(df_names['Name'], df_gender['Gender']))\n",
    "        \n",
    "#         # Appliquer la correspondance des genres aux noms dans le DataFrame\n",
    "#         df['Gender'] = df['Name'].map(name_gender_dict)\n",
    "        \n",
    "#         # Afficher le DataFrame avec la nouvelle colonne 'Gender' contenant les genres anonymisés\n",
    "#         print(df)\n",
    "    \n",
    "#     except FileNotFoundError:\n",
    "#         # Si l'un des fichiers CSV n'existe pas, créer un nouveau fichier pour les noms et les genres\n",
    "#         # Vous pouvez remplacer ces données par les noms et les genres réels que vous souhaitez inclure\n",
    "#         new_names_data = {'Name': ['John', 'Alice', 'Bob'],\n",
    "#                           'Gender': ['Men', 'Women', 'Men']}\n",
    "        \n",
    "#         # Créer un DataFrame à partir des nouvelles données\n",
    "#         new_df_names = pd.DataFrame(new_names_data)\n",
    "        \n",
    "#         # Enregistrer le DataFrame dans un fichier CSV\n",
    "#         new_df_names.to_csv(file_malt_csv_names, index=False)\n",
    "        \n",
    "#         # Utiliser des genres par défaut pour créer un fichier de genres si nécessaire\n",
    "#         # Assurez-vous d'adapter ces données selon vos besoins\n",
    "#         new_gender_data = {'Gender': ['Men', 'Women']}\n",
    "#         new_df_gender = pd.DataFrame(new_gender_data)\n",
    "        \n",
    "#         # Enregistrer le DataFrame dans un fichier CSV\n",
    "#         new_df_gender.to_csv(file_malt_csv, index=False)\n",
    "\n",
    "#         print(\"Fichiers CSV créés avec des données par défaut. Veuillez les personnaliser avec vos données réelles.\")\n",
    "\n",
    "# # Appeler la fonction pour anonymiser les noms en utilisant les informations de genre\n",
    "# anonymize_names(df, file_malt_csv_names, file_malt_csv)²"
   ]
  },
  {
   "cell_type": "code",
   "execution_count": null,
   "metadata": {},
   "outputs": [
    {
     "name": "stdout",
     "output_type": "stream",
     "text": [
      "               name                                           headline  price  \\\n",
      "0    Cécile Kleszcz     traductrice diplômée allemand anglais français    250   \n",
      "1   Patrick Javelle                          Emailing, bannières HTML5    400   \n",
      "2    Aurélie Poupée  Concepteur Rédacteur / Copywriter / Rédacteur web    260   \n",
      "3  Sandrine Pollien                    Rédactrice web seo / Copywriter    250   \n",
      "4         Audrey B.        Sous-titrage, Monteuse vidéo, Transcription    260   \n",
      "\n",
      "    experience  response_rate response_time  missions  \\\n",
      "0     8-15 ans            1.0            1h      1158   \n",
      "1  15 ans et +            1.0            1h       351   \n",
      "2     8-15 ans            1.0            1h      1085   \n",
      "3      3-7 ans            1.0           24h       265   \n",
      "4      3-7 ans            1.0            1h       148   \n",
      "\n",
      "                                          categories  \\\n",
      "0                    ['Rédacteur web', 'Traducteur']   \n",
      "1  ['Développeur CMS', 'Développeur Web Front-end...   \n",
      "2  ['Concepteur Rédacteur', 'Pigiste', 'Rédacteur...   \n",
      "3  ['Concepteur Rédacteur', 'Pigiste', 'Rédacteur...   \n",
      "4               ['Monteur vidéo', 'Motion Designer']   \n",
      "\n",
      "                                              skills  supermalter  \\\n",
      "0  ['Traduction Français Anglais', 'Traduction Fr...            1   \n",
      "1  ['Emailing', 'Intégration Emailing', 'Bannière...            1   \n",
      "2  ['Conception rédaction', 'Copywriting', 'Rédac...            1   \n",
      "3  ['Rédaction web', 'Copywriting', 'Landing page...            1   \n",
      "4  ['Sous-titrage', 'Montage vidéo', 'Adobe Premi...            0   \n",
      "\n",
      "                            location  \\\n",
      "0  {'Localisation': 'Paris, France'}   \n",
      "1  {'Localisation': 'Paris, France'}   \n",
      "2  {'Localisation': 'Paris, France'}   \n",
      "3  {'Localisation': 'Paris, France'}   \n",
      "4  {'Localisation': 'Paris, France'}   \n",
      "\n",
      "                                        presentation  recommendations  \\\n",
      "0  Je suis diplômée Master II de l'ISTI en traduc...                5   \n",
      "1  Intégrateur emailing avec 15 ans d’expérience ...               25   \n",
      "2  👩🏼‍💻Diplômée en journalisme, j'ai choisi le mé...               27   \n",
      "3  👍🏻 Rédactrice web depuis maintenant 5 ans et d...               21   \n",
      "4  ▪︎ Montage vidéo— Je vous propose également me...                3   \n",
      "\n",
      "   teletravail_preference  \n",
      "0                       1  \n",
      "1                       1  \n",
      "2                       1  \n",
      "3                       1  \n",
      "4                       1  \n"
     ]
    }
   ],
   "source": [
    "print(df.head())\n",
    "\n",
    "Clean_csv = \"../../datasets/parsed_malt_data.csv\"\n",
    "\n",
    "df.to_csv(Clean_csv, index=False)"
   ]
  }
 ],
 "metadata": {
  "kernelspec": {
   "display_name": "Python 3",
   "language": "python",
   "name": "python3"
  },
  "language_info": {
   "codemirror_mode": {
    "name": "ipython",
    "version": 3
   },
   "file_extension": ".py",
   "mimetype": "text/x-python",
   "name": "python",
   "nbconvert_exporter": "python",
   "pygments_lexer": "ipython3",
   "version": "3.11.6"
  }
 },
 "nbformat": 4,
 "nbformat_minor": 2
}
