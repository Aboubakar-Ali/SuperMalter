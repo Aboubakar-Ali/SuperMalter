{
 "cells": [
  {
   "cell_type": "code",
   "execution_count": 17,
   "metadata": {},
   "outputs": [
    {
     "name": "stdout",
     "output_type": "stream",
     "text": [
      "Dimensions de X_train_scaled: (151, 4)\n",
      "Dimensions de X_test_scaled: (38, 4)\n"
     ]
    }
   ],
   "source": [
    "import pandas as pd\n",
    "from sklearn.model_selection import train_test_split\n",
    "from sklearn.preprocessing import StandardScaler # Standardization of characteristics\n",
    "\n",
    "data = pd.read_csv('../datasets/ml_sample_data.csv')\n",
    "\n",
    "# Mapping\n",
    "experience_mapping = {\n",
    "    '0-2 ans': 1, \n",
    "    '3-7 ans': 5, \n",
    "    '8-15 ans': 11.5, \n",
    "    '15 ans et +': 20\n",
    "}\n",
    "data['experience_encoded'] = data['experience'].map(experience_mapping)\n",
    "\n",
    "\n",
    "\n",
    "# One-Hot Encoding\n",
    "data = pd.get_dummies(data, columns=['Region_Name'], prefix='Region')\n",
    "\n",
    "# Delete columns that won't be used in the template\n",
    "data = data.drop(['experience', 'categories'], axis=1)\n",
    "\n",
    "# Separate Characteristics (X) and Target (Y)\n",
    "X = data.drop('price', axis=1)\n",
    "y = data['price']\n",
    "\n",
    "# Divide data into training and test sets\n",
    "X_train, X_test, y_train, y_test = train_test_split(X, y, test_size=0.2, random_state=42)\n",
    "\n",
    "\n",
    "# print(f\"Dimensions de X_train: {X_train.shape}\")\n",
    "# print(f\"Dimensions de X_test: {X_test.shape}\")\n",
    "# print(f\"Dimensions de y_train: {y_train.shape}\")\n",
    "# print(f\"Dimensions de y_test: {y_test.shape}\")\n",
    "\n",
    "\n",
    "scaler = StandardScaler()\n",
    "\n",
    "# transformation\n",
    "X_train_scaled = scaler.fit_transform(X_train)\n",
    "X_test_scaled = scaler.transform(X_test)\n",
    "\n",
    "\n",
    "print(f\"Dimensions de X_train_scaled: {X_train_scaled.shape}\")\n",
    "print(f\"Dimensions de X_test_scaled: {X_test_scaled.shape}\")\n",
    "\n",
    "\n"
   ]
  }
 ],
 "metadata": {
  "kernelspec": {
   "display_name": "pydel",
   "language": "python",
   "name": "python3"
  },
  "language_info": {
   "codemirror_mode": {
    "name": "ipython",
    "version": 3
   },
   "file_extension": ".py",
   "mimetype": "text/x-python",
   "name": "python",
   "nbconvert_exporter": "python",
   "pygments_lexer": "ipython3",
   "version": "3.12.0"
  }
 },
 "nbformat": 4,
 "nbformat_minor": 2
}
